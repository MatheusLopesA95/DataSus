{
 "cells": [
  {
   "cell_type": "code",
   "execution_count": 1,
   "id": "6b812958",
   "metadata": {},
   "outputs": [],
   "source": [
    "import pandas as pd\n",
    "import seaborn as sbn\n",
    "import statistics as sns"
   ]
  },
  {
   "cell_type": "code",
   "execution_count": 2,
   "id": "63f5a234",
   "metadata": {},
   "outputs": [
    {
     "name": "stderr",
     "output_type": "stream",
     "text": [
      "C:\\Users\\matheus\\anaconda3\\lib\\site-packages\\IPython\\core\\interactiveshell.py:3444: DtypeWarning: Columns (7,8) have mixed types.Specify dtype option on import or set low_memory=False.\n",
      "  exec(code_obj, self.user_global_ns, self.user_ns)\n"
     ]
    },
    {
     "data": {
      "text/html": [
       "<div>\n",
       "<style scoped>\n",
       "    .dataframe tbody tr th:only-of-type {\n",
       "        vertical-align: middle;\n",
       "    }\n",
       "\n",
       "    .dataframe tbody tr th {\n",
       "        vertical-align: top;\n",
       "    }\n",
       "\n",
       "    .dataframe thead th {\n",
       "        text-align: right;\n",
       "    }\n",
       "</style>\n",
       "<table border=\"1\" class=\"dataframe\">\n",
       "  <thead>\n",
       "    <tr style=\"text-align: right;\">\n",
       "      <th></th>\n",
       "      <th>document_id</th>\n",
       "      <th>paciente_id</th>\n",
       "      <th>paciente_idade</th>\n",
       "      <th>paciente_dataNascimento</th>\n",
       "      <th>paciente_enumSexoBiologico</th>\n",
       "      <th>paciente_racaCor_codigo</th>\n",
       "      <th>paciente_racaCor_valor</th>\n",
       "      <th>paciente_endereco_coIbgeMunicipio</th>\n",
       "      <th>paciente_endereco_coPais</th>\n",
       "      <th>paciente_endereco_nmMunicipio</th>\n",
       "      <th>...</th>\n",
       "      <th>vacina_categoria_codigo</th>\n",
       "      <th>vacina_categoria_nome</th>\n",
       "      <th>vacina_lote</th>\n",
       "      <th>vacina_fabricante_nome</th>\n",
       "      <th>vacina_fabricante_referencia</th>\n",
       "      <th>vacina_dataAplicacao</th>\n",
       "      <th>vacina_descricao_dose</th>\n",
       "      <th>vacina_codigo</th>\n",
       "      <th>vacina_nome</th>\n",
       "      <th>sistema_origem</th>\n",
       "    </tr>\n",
       "  </thead>\n",
       "  <tbody>\n",
       "    <tr>\n",
       "      <th>0</th>\n",
       "      <td>a3b9c8fd-e7e2-41ba-80fb-3a8596afcbc8-i0b0</td>\n",
       "      <td>c804ff943bec558ae80ffe5e6c1599d203aec37b154a70...</td>\n",
       "      <td>45.0</td>\n",
       "      <td>1976-02-28</td>\n",
       "      <td>F</td>\n",
       "      <td>99.0</td>\n",
       "      <td>SEM INFORMACAO</td>\n",
       "      <td>350320.0</td>\n",
       "      <td>10.0</td>\n",
       "      <td>ARARAQUARA</td>\n",
       "      <td>...</td>\n",
       "      <td>2.0</td>\n",
       "      <td>Faixa Etária</td>\n",
       "      <td>218VCD256W</td>\n",
       "      <td>ASTRAZENECA/FIOCRUZ</td>\n",
       "      <td>Organization/33781055000135</td>\n",
       "      <td>2021-10-02</td>\n",
       "      <td>2ª Dose</td>\n",
       "      <td>85</td>\n",
       "      <td>COVID-19 ASTRAZENECA/FIOCRUZ - COVISHIELD</td>\n",
       "      <td>Novo PNI</td>\n",
       "    </tr>\n",
       "    <tr>\n",
       "      <th>1</th>\n",
       "      <td>8e4ae0f4-32ae-4295-b5e6-31394a991570-i0b0</td>\n",
       "      <td>8fc7f163d8276fb6b5e7da9b27212fbbff1f7fb31ff62e...</td>\n",
       "      <td>21.0</td>\n",
       "      <td>2000-07-17</td>\n",
       "      <td>F</td>\n",
       "      <td>3.0</td>\n",
       "      <td>PARDA</td>\n",
       "      <td>530010.0</td>\n",
       "      <td>10.0</td>\n",
       "      <td>BRASILIA</td>\n",
       "      <td>...</td>\n",
       "      <td>2.0</td>\n",
       "      <td>Faixa Etária</td>\n",
       "      <td>FE3591</td>\n",
       "      <td>PFIZER</td>\n",
       "      <td>Organization/00394544000851</td>\n",
       "      <td>2021-08-12</td>\n",
       "      <td>1ª Dose</td>\n",
       "      <td>87</td>\n",
       "      <td>COVID-19 PFIZER - COMIRNATY</td>\n",
       "      <td>Novo PNI</td>\n",
       "    </tr>\n",
       "    <tr>\n",
       "      <th>2</th>\n",
       "      <td>a3ecb141-5ed8-4683-81a8-5935cd428501-i0b0</td>\n",
       "      <td>9edf32bb763f6903c05a89f5fab471ba81f889469bba73...</td>\n",
       "      <td>48.0</td>\n",
       "      <td>1972-08-04</td>\n",
       "      <td>M</td>\n",
       "      <td>99.0</td>\n",
       "      <td>SEM INFORMACAO</td>\n",
       "      <td>530010.0</td>\n",
       "      <td>10.0</td>\n",
       "      <td>BRASILIA</td>\n",
       "      <td>...</td>\n",
       "      <td>2.0</td>\n",
       "      <td>Faixa Etária</td>\n",
       "      <td>FA9095</td>\n",
       "      <td>PFIZER</td>\n",
       "      <td>Organization/00394544000851</td>\n",
       "      <td>2021-07-08</td>\n",
       "      <td>1ª Dose</td>\n",
       "      <td>87</td>\n",
       "      <td>COVID-19 PFIZER - COMIRNATY</td>\n",
       "      <td>Novo PNI</td>\n",
       "    </tr>\n",
       "    <tr>\n",
       "      <th>3</th>\n",
       "      <td>8e6427c0-9c08-480b-a3d9-ba0e74504a58-i0b0</td>\n",
       "      <td>c6a0d768ce158492f06085057d1431708d9321fc7ea361...</td>\n",
       "      <td>31.0</td>\n",
       "      <td>1990-01-05</td>\n",
       "      <td>F</td>\n",
       "      <td>1.0</td>\n",
       "      <td>BRANCA</td>\n",
       "      <td>260790.0</td>\n",
       "      <td>10.0</td>\n",
       "      <td>JABOATAO DOS GUARARAPES</td>\n",
       "      <td>...</td>\n",
       "      <td>2.0</td>\n",
       "      <td>Faixa Etária</td>\n",
       "      <td>FH8023</td>\n",
       "      <td>PFIZER</td>\n",
       "      <td>Organization/00394544000851</td>\n",
       "      <td>2021-10-13</td>\n",
       "      <td>2ª Dose</td>\n",
       "      <td>87</td>\n",
       "      <td>COVID-19 PFIZER - COMIRNATY</td>\n",
       "      <td>Novo PNI</td>\n",
       "    </tr>\n",
       "    <tr>\n",
       "      <th>4</th>\n",
       "      <td>a3f51e64-5581-4355-95d0-bc3dbf6f6417-i0b0</td>\n",
       "      <td>5243fb38cfdb567cd982d8b73d99ae77bc6b0612a1eb47...</td>\n",
       "      <td>41.0</td>\n",
       "      <td>1980-03-18</td>\n",
       "      <td>F</td>\n",
       "      <td>99.0</td>\n",
       "      <td>SEM INFORMACAO</td>\n",
       "      <td>290320.0</td>\n",
       "      <td>10.0</td>\n",
       "      <td>BARREIRAS</td>\n",
       "      <td>...</td>\n",
       "      <td>2.0</td>\n",
       "      <td>Faixa Etária</td>\n",
       "      <td>216VCD177Z</td>\n",
       "      <td>ASTRAZENECA/FIOCRUZ</td>\n",
       "      <td>Organization/33781055000135</td>\n",
       "      <td>2021-07-24</td>\n",
       "      <td>1ª Dose</td>\n",
       "      <td>85</td>\n",
       "      <td>COVID-19 ASTRAZENECA/FIOCRUZ - COVISHIELD</td>\n",
       "      <td>Novo PNI</td>\n",
       "    </tr>\n",
       "  </tbody>\n",
       "</table>\n",
       "<p>5 rows × 32 columns</p>\n",
       "</div>"
      ],
      "text/plain": [
       "                                 document_id  \\\n",
       "0  a3b9c8fd-e7e2-41ba-80fb-3a8596afcbc8-i0b0   \n",
       "1  8e4ae0f4-32ae-4295-b5e6-31394a991570-i0b0   \n",
       "2  a3ecb141-5ed8-4683-81a8-5935cd428501-i0b0   \n",
       "3  8e6427c0-9c08-480b-a3d9-ba0e74504a58-i0b0   \n",
       "4  a3f51e64-5581-4355-95d0-bc3dbf6f6417-i0b0   \n",
       "\n",
       "                                         paciente_id  paciente_idade  \\\n",
       "0  c804ff943bec558ae80ffe5e6c1599d203aec37b154a70...            45.0   \n",
       "1  8fc7f163d8276fb6b5e7da9b27212fbbff1f7fb31ff62e...            21.0   \n",
       "2  9edf32bb763f6903c05a89f5fab471ba81f889469bba73...            48.0   \n",
       "3  c6a0d768ce158492f06085057d1431708d9321fc7ea361...            31.0   \n",
       "4  5243fb38cfdb567cd982d8b73d99ae77bc6b0612a1eb47...            41.0   \n",
       "\n",
       "  paciente_dataNascimento paciente_enumSexoBiologico  paciente_racaCor_codigo  \\\n",
       "0              1976-02-28                          F                     99.0   \n",
       "1              2000-07-17                          F                      3.0   \n",
       "2              1972-08-04                          M                     99.0   \n",
       "3              1990-01-05                          F                      1.0   \n",
       "4              1980-03-18                          F                     99.0   \n",
       "\n",
       "  paciente_racaCor_valor paciente_endereco_coIbgeMunicipio  \\\n",
       "0         SEM INFORMACAO                          350320.0   \n",
       "1                  PARDA                          530010.0   \n",
       "2         SEM INFORMACAO                          530010.0   \n",
       "3                 BRANCA                          260790.0   \n",
       "4         SEM INFORMACAO                          290320.0   \n",
       "\n",
       "  paciente_endereco_coPais paciente_endereco_nmMunicipio  ...  \\\n",
       "0                     10.0                    ARARAQUARA  ...   \n",
       "1                     10.0                      BRASILIA  ...   \n",
       "2                     10.0                      BRASILIA  ...   \n",
       "3                     10.0       JABOATAO DOS GUARARAPES  ...   \n",
       "4                     10.0                     BARREIRAS  ...   \n",
       "\n",
       "  vacina_categoria_codigo vacina_categoria_nome vacina_lote  \\\n",
       "0                     2.0          Faixa Etária  218VCD256W   \n",
       "1                     2.0          Faixa Etária      FE3591   \n",
       "2                     2.0          Faixa Etária      FA9095   \n",
       "3                     2.0          Faixa Etária      FH8023   \n",
       "4                     2.0          Faixa Etária  216VCD177Z   \n",
       "\n",
       "  vacina_fabricante_nome  vacina_fabricante_referencia vacina_dataAplicacao  \\\n",
       "0    ASTRAZENECA/FIOCRUZ   Organization/33781055000135           2021-10-02   \n",
       "1                 PFIZER   Organization/00394544000851           2021-08-12   \n",
       "2                 PFIZER   Organization/00394544000851           2021-07-08   \n",
       "3                 PFIZER   Organization/00394544000851           2021-10-13   \n",
       "4    ASTRAZENECA/FIOCRUZ   Organization/33781055000135           2021-07-24   \n",
       "\n",
       "  vacina_descricao_dose  vacina_codigo  \\\n",
       "0               2ª Dose             85   \n",
       "1               1ª Dose             87   \n",
       "2               1ª Dose             87   \n",
       "3               2ª Dose             87   \n",
       "4               1ª Dose             85   \n",
       "\n",
       "                                 vacina_nome sistema_origem  \n",
       "0  COVID-19 ASTRAZENECA/FIOCRUZ - COVISHIELD       Novo PNI  \n",
       "1                COVID-19 PFIZER - COMIRNATY       Novo PNI  \n",
       "2                COVID-19 PFIZER - COMIRNATY       Novo PNI  \n",
       "3                COVID-19 PFIZER - COMIRNATY       Novo PNI  \n",
       "4  COVID-19 ASTRAZENECA/FIOCRUZ - COVISHIELD       Novo PNI  \n",
       "\n",
       "[5 rows x 32 columns]"
      ]
     },
     "execution_count": 2,
     "metadata": {},
     "output_type": "execute_result"
    }
   ],
   "source": [
    "data=pd.read_csv('sus1.csv', sep=';', on_bad_lines='skip')\n",
    "data.head()\n"
   ]
  },
  {
   "cell_type": "code",
   "execution_count": 3,
   "id": "6da8c391",
   "metadata": {},
   "outputs": [
    {
     "data": {
      "text/plain": [
       "document_id                                      0\n",
       "paciente_id                                      1\n",
       "paciente_idade                                   1\n",
       "paciente_dataNascimento                          1\n",
       "paciente_enumSexoBiologico                       1\n",
       "paciente_racaCor_codigo                          4\n",
       "paciente_racaCor_valor                           4\n",
       "paciente_endereco_coIbgeMunicipio            13654\n",
       "paciente_endereco_coPais                     13613\n",
       "paciente_endereco_nmMunicipio                13642\n",
       "paciente_endereco_nmPais                     13613\n",
       "paciente_endereco_uf                         13654\n",
       "paciente_endereco_cep                       259600\n",
       "paciente_nacionalidade_enumNacionalidade       876\n",
       "estabelecimento_valor                            0\n",
       "estabelecimento_razaoSocial                      0\n",
       "estalecimento_noFantasia                         0\n",
       "estabelecimento_municipio_codigo                 0\n",
       "estabelecimento_municipio_nome                   0\n",
       "estabelecimento_uf                               0\n",
       "vacina_grupoAtendimento_codigo                   0\n",
       "vacina_grupoAtendimento_nome                     0\n",
       "vacina_categoria_codigo                      12941\n",
       "vacina_categoria_nome                        12941\n",
       "vacina_lote                                      0\n",
       "vacina_fabricante_nome                           0\n",
       "vacina_fabricante_referencia                  1523\n",
       "vacina_dataAplicacao                             0\n",
       "vacina_descricao_dose                            0\n",
       "vacina_codigo                                    0\n",
       "vacina_nome                                      0\n",
       "sistema_origem                                   0\n",
       "dtype: int64"
      ]
     },
     "execution_count": 3,
     "metadata": {},
     "output_type": "execute_result"
    }
   ],
   "source": [
    "#Verificar quais colunas possuem dados faltantes\n",
    "data.isnull().sum()"
   ]
  },
  {
   "cell_type": "code",
   "execution_count": 4,
   "id": "9dbfb36b",
   "metadata": {},
   "outputs": [
    {
     "data": {
      "text/plain": [
       "paciente_enumSexoBiologico\n",
       "F    897890\n",
       "M    749443\n",
       "dtype: int64"
      ]
     },
     "execution_count": 4,
     "metadata": {},
     "output_type": "execute_result"
    }
   ],
   "source": [
    "#Verificar qual 'paciente_enumSexoBiologico' é maioria\n",
    "agrupado=data.groupby(['paciente_enumSexoBiologico']).size()\n",
    "agrupado"
   ]
  },
  {
   "cell_type": "code",
   "execution_count": 5,
   "id": "62583de1",
   "metadata": {},
   "outputs": [],
   "source": [
    "#Substituir dado faltante na coluna 'paciente_enumSexoBiologico' pela maioria \n",
    "data['paciente_enumSexoBiologico'].fillna(value='F', inplace=True)"
   ]
  },
  {
   "cell_type": "code",
   "execution_count": 6,
   "id": "5ace8c74",
   "metadata": {},
   "outputs": [],
   "source": [
    "import statistics as sns"
   ]
  },
  {
   "cell_type": "code",
   "execution_count": 7,
   "id": "a61fda19",
   "metadata": {},
   "outputs": [
    {
     "data": {
      "text/plain": [
       "39.0"
      ]
     },
     "execution_count": 7,
     "metadata": {},
     "output_type": "execute_result"
    }
   ],
   "source": [
    "#Calcular moda de na coluna 'paciente_idade' utilizando a biblioteca statistics\n",
    "moda_idade=sns.mode(data['paciente_idade'])\n",
    "moda_idade"
   ]
  },
  {
   "cell_type": "code",
   "execution_count": 8,
   "id": "edc4c7ef",
   "metadata": {},
   "outputs": [
    {
     "data": {
      "text/plain": [
       "0"
      ]
     },
     "execution_count": 8,
     "metadata": {},
     "output_type": "execute_result"
    }
   ],
   "source": [
    "#Substituir dados faltantes na coluna 'paciente_idade' pela moda\n",
    "data['paciente_idade'].fillna(moda_idade, inplace=True)\n",
    "# Verificar se ainda há dados faltantes\n",
    "data['paciente_idade'].isnull().sum()"
   ]
  },
  {
   "cell_type": "code",
   "execution_count": 9,
   "id": "c78f3223",
   "metadata": {},
   "outputs": [
    {
     "data": {
      "text/plain": [
       "paciente_racaCor_codigo  paciente_racaCor_valor\n",
       "1.0                      BRANCA                    279966\n",
       "2.0                      PRETA                      52455\n",
       "3.0                      PARDA                     463265\n",
       "4.0                      AMARELA                   180177\n",
       "5.0                      INDIGENA                     668\n",
       "99.0                     SEM INFORMACAO            670799\n",
       "dtype: int64"
      ]
     },
     "execution_count": 9,
     "metadata": {},
     "output_type": "execute_result"
    }
   ],
   "source": [
    "#Verificando dados das colunas 'paciente_racaCor_codigo' e 'paciente_racaCor_valor'\n",
    "cod_raca=data.groupby(['paciente_racaCor_codigo', 'paciente_racaCor_valor']).size()\n",
    "cod_raca"
   ]
  },
  {
   "cell_type": "code",
   "execution_count": 10,
   "id": "9a2b9d96",
   "metadata": {},
   "outputs": [
    {
     "data": {
      "text/plain": [
       "99.0"
      ]
     },
     "execution_count": 10,
     "metadata": {},
     "output_type": "execute_result"
    }
   ],
   "source": [
    "#Calculando moda 'paciente_racaCor_codigo'\n",
    "moda_cod_raca=sns.mode(data['paciente_racaCor_codigo'])\n",
    "moda_cod_raca"
   ]
  },
  {
   "cell_type": "code",
   "execution_count": 11,
   "id": "1debfdf0",
   "metadata": {},
   "outputs": [],
   "source": [
    "#Substituindo dados falantes por moda \n",
    "data['paciente_racaCor_codigo'].fillna(moda_cod_raca, inplace=True)"
   ]
  },
  {
   "cell_type": "code",
   "execution_count": 12,
   "id": "39f59dc7",
   "metadata": {},
   "outputs": [
    {
     "data": {
      "text/plain": [
       "'SEM INFORMACAO'"
      ]
     },
     "execution_count": 12,
     "metadata": {},
     "output_type": "execute_result"
    }
   ],
   "source": [
    "#Calculando moda 'paciente_racaCor_valor'\n",
    "moda_valor_raca=sns.mode(data['paciente_racaCor_valor'])\n",
    "moda_valor_raca\n"
   ]
  },
  {
   "cell_type": "code",
   "execution_count": 13,
   "id": "5dd9962c",
   "metadata": {},
   "outputs": [],
   "source": [
    "#Substituindo dados falantes por moda \n",
    "data['paciente_racaCor_valor'].fillna(moda_valor_raca, inplace=True)"
   ]
  },
  {
   "cell_type": "code",
   "execution_count": 14,
   "id": "3492e486",
   "metadata": {},
   "outputs": [
    {
     "data": {
      "text/plain": [
       "paciente_racaCor_codigo  paciente_racaCor_valor\n",
       "1.0                      BRANCA                    279966\n",
       "2.0                      PRETA                      52455\n",
       "3.0                      PARDA                     463265\n",
       "4.0                      AMARELA                   180177\n",
       "5.0                      INDIGENA                     668\n",
       "99.0                     SEM INFORMACAO            670803\n",
       "dtype: int64"
      ]
     },
     "execution_count": 14,
     "metadata": {},
     "output_type": "execute_result"
    }
   ],
   "source": [
    "#Verificando dados das colunas 'paciente_racaCor_codigo' e 'paciente_racaCor_valor'\n",
    "# após substituição de dados NA\n",
    "cod_raca=data.groupby(['paciente_racaCor_codigo', 'paciente_racaCor_valor']).size()\n",
    "cod_raca"
   ]
  },
  {
   "cell_type": "code",
   "execution_count": 15,
   "id": "1ed3de6f",
   "metadata": {},
   "outputs": [
    {
     "data": {
      "text/html": [
       "<div>\n",
       "<style scoped>\n",
       "    .dataframe tbody tr th:only-of-type {\n",
       "        vertical-align: middle;\n",
       "    }\n",
       "\n",
       "    .dataframe tbody tr th {\n",
       "        vertical-align: top;\n",
       "    }\n",
       "\n",
       "    .dataframe thead th {\n",
       "        text-align: right;\n",
       "    }\n",
       "</style>\n",
       "<table border=\"1\" class=\"dataframe\">\n",
       "  <thead>\n",
       "    <tr style=\"text-align: right;\">\n",
       "      <th></th>\n",
       "      <th>document_id</th>\n",
       "      <th>paciente_id</th>\n",
       "      <th>paciente_idade</th>\n",
       "      <th>paciente_dataNascimento</th>\n",
       "      <th>paciente_enumSexoBiologico</th>\n",
       "      <th>paciente_racaCor_codigo</th>\n",
       "      <th>paciente_racaCor_valor</th>\n",
       "      <th>paciente_endereco_coIbgeMunicipio</th>\n",
       "      <th>paciente_endereco_coPais</th>\n",
       "      <th>paciente_endereco_nmMunicipio</th>\n",
       "      <th>...</th>\n",
       "      <th>vacina_categoria_codigo</th>\n",
       "      <th>vacina_categoria_nome</th>\n",
       "      <th>vacina_lote</th>\n",
       "      <th>vacina_fabricante_nome</th>\n",
       "      <th>vacina_fabricante_referencia</th>\n",
       "      <th>vacina_dataAplicacao</th>\n",
       "      <th>vacina_descricao_dose</th>\n",
       "      <th>vacina_codigo</th>\n",
       "      <th>vacina_nome</th>\n",
       "      <th>sistema_origem</th>\n",
       "    </tr>\n",
       "  </thead>\n",
       "  <tbody>\n",
       "  </tbody>\n",
       "</table>\n",
       "<p>0 rows × 32 columns</p>\n",
       "</div>"
      ],
      "text/plain": [
       "Empty DataFrame\n",
       "Columns: [document_id, paciente_id, paciente_idade, paciente_dataNascimento, paciente_enumSexoBiologico, paciente_racaCor_codigo, paciente_racaCor_valor, paciente_endereco_coIbgeMunicipio, paciente_endereco_coPais, paciente_endereco_nmMunicipio, paciente_endereco_nmPais, paciente_endereco_uf, paciente_endereco_cep, paciente_nacionalidade_enumNacionalidade, estabelecimento_valor, estabelecimento_razaoSocial, estalecimento_noFantasia, estabelecimento_municipio_codigo, estabelecimento_municipio_nome, estabelecimento_uf, vacina_grupoAtendimento_codigo, vacina_grupoAtendimento_nome, vacina_categoria_codigo, vacina_categoria_nome, vacina_lote, vacina_fabricante_nome, vacina_fabricante_referencia, vacina_dataAplicacao, vacina_descricao_dose, vacina_codigo, vacina_nome, sistema_origem]\n",
       "Index: []\n",
       "\n",
       "[0 rows x 32 columns]"
      ]
     },
     "execution_count": 15,
     "metadata": {},
     "output_type": "execute_result"
    }
   ],
   "source": [
    "#Busca de dados duplicados pelo 'document_id'\n",
    "data[data.duplicated(['document_id'], keep=False)]"
   ]
  },
  {
   "cell_type": "code",
   "execution_count": 16,
   "id": "806a9310",
   "metadata": {},
   "outputs": [
    {
     "data": {
      "text/html": [
       "<div>\n",
       "<style scoped>\n",
       "    .dataframe tbody tr th:only-of-type {\n",
       "        vertical-align: middle;\n",
       "    }\n",
       "\n",
       "    .dataframe tbody tr th {\n",
       "        vertical-align: top;\n",
       "    }\n",
       "\n",
       "    .dataframe thead th {\n",
       "        text-align: right;\n",
       "    }\n",
       "</style>\n",
       "<table border=\"1\" class=\"dataframe\">\n",
       "  <thead>\n",
       "    <tr style=\"text-align: right;\">\n",
       "      <th></th>\n",
       "      <th>document_id</th>\n",
       "      <th>paciente_id</th>\n",
       "      <th>paciente_idade</th>\n",
       "      <th>paciente_dataNascimento</th>\n",
       "      <th>paciente_enumSexoBiologico</th>\n",
       "      <th>paciente_racaCor_codigo</th>\n",
       "      <th>paciente_racaCor_valor</th>\n",
       "      <th>paciente_endereco_coIbgeMunicipio</th>\n",
       "      <th>paciente_endereco_coPais</th>\n",
       "      <th>paciente_endereco_nmMunicipio</th>\n",
       "      <th>...</th>\n",
       "      <th>vacina_categoria_codigo</th>\n",
       "      <th>vacina_categoria_nome</th>\n",
       "      <th>vacina_lote</th>\n",
       "      <th>vacina_fabricante_nome</th>\n",
       "      <th>vacina_fabricante_referencia</th>\n",
       "      <th>vacina_dataAplicacao</th>\n",
       "      <th>vacina_descricao_dose</th>\n",
       "      <th>vacina_codigo</th>\n",
       "      <th>vacina_nome</th>\n",
       "      <th>sistema_origem</th>\n",
       "    </tr>\n",
       "  </thead>\n",
       "  <tbody>\n",
       "    <tr>\n",
       "      <th>1171</th>\n",
       "      <td>abbccaf6-e59c-49f5-bbbd-003717d0d5dc-i0b0</td>\n",
       "      <td>6e8c757678aa63e45a68b30df4e31055e6232f4dfdfeaa...</td>\n",
       "      <td>19.0</td>\n",
       "      <td>2002-03-28</td>\n",
       "      <td>M</td>\n",
       "      <td>3.0</td>\n",
       "      <td>PARDA</td>\n",
       "      <td>530010.0</td>\n",
       "      <td>10.0</td>\n",
       "      <td>BRASILIA</td>\n",
       "      <td>...</td>\n",
       "      <td>2.0</td>\n",
       "      <td>Faixa Etária</td>\n",
       "      <td>FD7222</td>\n",
       "      <td>PFIZER</td>\n",
       "      <td>Organization/00394544000851</td>\n",
       "      <td>2021-08-18</td>\n",
       "      <td>1ª Dose</td>\n",
       "      <td>87</td>\n",
       "      <td>COVID-19 PFIZER - COMIRNATY</td>\n",
       "      <td>Novo PNI</td>\n",
       "    </tr>\n",
       "    <tr>\n",
       "      <th>1766</th>\n",
       "      <td>cfebd766-d8db-4ba0-b3fc-971fa424db7f-i0b0</td>\n",
       "      <td>8618955d041c76fd6636181db0755d89cafd595c80d047...</td>\n",
       "      <td>53.0</td>\n",
       "      <td>1967-10-24</td>\n",
       "      <td>F</td>\n",
       "      <td>1.0</td>\n",
       "      <td>BRANCA</td>\n",
       "      <td>530010.0</td>\n",
       "      <td>10.0</td>\n",
       "      <td>BRASILIA</td>\n",
       "      <td>...</td>\n",
       "      <td>2.0</td>\n",
       "      <td>Faixa Etária</td>\n",
       "      <td>210373</td>\n",
       "      <td>SINOVAC/BUTANTAN</td>\n",
       "      <td>Organization/61189445000156</td>\n",
       "      <td>2021-09-10</td>\n",
       "      <td>1ª Dose</td>\n",
       "      <td>86</td>\n",
       "      <td>COVID-19 SINOVAC/BUTANTAN - CORONAVAC</td>\n",
       "      <td>Novo PNI</td>\n",
       "    </tr>\n",
       "    <tr>\n",
       "      <th>3103</th>\n",
       "      <td>ddee5d54-a7dc-4b31-a48b-6f4ecc996f67-i0b0</td>\n",
       "      <td>16eee3601325b8f85dc2ce53627e32ab5cb3736c559fc0...</td>\n",
       "      <td>43.0</td>\n",
       "      <td>1978-10-13</td>\n",
       "      <td>M</td>\n",
       "      <td>99.0</td>\n",
       "      <td>SEM INFORMACAO</td>\n",
       "      <td>530010.0</td>\n",
       "      <td>10.0</td>\n",
       "      <td>BRASILIA</td>\n",
       "      <td>...</td>\n",
       "      <td>2.0</td>\n",
       "      <td>Faixa Etária</td>\n",
       "      <td>210388</td>\n",
       "      <td>SINOVAC/BUTANTAN</td>\n",
       "      <td>Organization/61189445000156</td>\n",
       "      <td>2021-10-14</td>\n",
       "      <td>2ª Dose</td>\n",
       "      <td>86</td>\n",
       "      <td>COVID-19 SINOVAC/BUTANTAN - CORONAVAC</td>\n",
       "      <td>Novo PNI</td>\n",
       "    </tr>\n",
       "    <tr>\n",
       "      <th>3928</th>\n",
       "      <td>0f34c483-1764-4299-b3a6-50703cc8e51a-i0b0</td>\n",
       "      <td>c1b7686c3b3a9d3da504755054337e057047649d62cb19...</td>\n",
       "      <td>61.0</td>\n",
       "      <td>1959-11-25</td>\n",
       "      <td>F</td>\n",
       "      <td>1.0</td>\n",
       "      <td>BRANCA</td>\n",
       "      <td>530010.0</td>\n",
       "      <td>10.0</td>\n",
       "      <td>BRASILIA</td>\n",
       "      <td>...</td>\n",
       "      <td>NaN</td>\n",
       "      <td>NaN</td>\n",
       "      <td>213VCD04</td>\n",
       "      <td>ASTRAZENECA/FIOCRUZ</td>\n",
       "      <td>NaN</td>\n",
       "      <td>2021-07-01</td>\n",
       "      <td>1ª Dose</td>\n",
       "      <td>85</td>\n",
       "      <td>COVID-19 ASTRAZENECA/FIOCRUZ - COVISHIELD</td>\n",
       "      <td>ESUS APS - NACIONAL (OFFLINE)</td>\n",
       "    </tr>\n",
       "    <tr>\n",
       "      <th>4221</th>\n",
       "      <td>f954b026-bdb0-496d-8651-0902f985ab2b-i0b0</td>\n",
       "      <td>36db5bbd5c98a055fc3e8f15330a227381a5ac1485ceab...</td>\n",
       "      <td>22.0</td>\n",
       "      <td>1999-05-05</td>\n",
       "      <td>M</td>\n",
       "      <td>3.0</td>\n",
       "      <td>PARDA</td>\n",
       "      <td>530010.0</td>\n",
       "      <td>10.0</td>\n",
       "      <td>BRASILIA</td>\n",
       "      <td>...</td>\n",
       "      <td>2.0</td>\n",
       "      <td>Faixa Etária</td>\n",
       "      <td>210373</td>\n",
       "      <td>SINOVAC/BUTANTAN</td>\n",
       "      <td>Organization/61189445000156</td>\n",
       "      <td>2021-09-11</td>\n",
       "      <td>2ª Dose</td>\n",
       "      <td>86</td>\n",
       "      <td>COVID-19 SINOVAC/BUTANTAN - CORONAVAC</td>\n",
       "      <td>Novo PNI</td>\n",
       "    </tr>\n",
       "    <tr>\n",
       "      <th>...</th>\n",
       "      <td>...</td>\n",
       "      <td>...</td>\n",
       "      <td>...</td>\n",
       "      <td>...</td>\n",
       "      <td>...</td>\n",
       "      <td>...</td>\n",
       "      <td>...</td>\n",
       "      <td>...</td>\n",
       "      <td>...</td>\n",
       "      <td>...</td>\n",
       "      <td>...</td>\n",
       "      <td>...</td>\n",
       "      <td>...</td>\n",
       "      <td>...</td>\n",
       "      <td>...</td>\n",
       "      <td>...</td>\n",
       "      <td>...</td>\n",
       "      <td>...</td>\n",
       "      <td>...</td>\n",
       "      <td>...</td>\n",
       "      <td>...</td>\n",
       "    </tr>\n",
       "    <tr>\n",
       "      <th>1644730</th>\n",
       "      <td>39452adf-1d12-4030-823c-ba4526113de0-i0b0</td>\n",
       "      <td>d19c8319bf60ccf34c581669afe7522686d70ba1d3bce9...</td>\n",
       "      <td>69.0</td>\n",
       "      <td>1952-01-17</td>\n",
       "      <td>F</td>\n",
       "      <td>3.0</td>\n",
       "      <td>PARDA</td>\n",
       "      <td>530010.0</td>\n",
       "      <td>10.0</td>\n",
       "      <td>BRASILIA</td>\n",
       "      <td>...</td>\n",
       "      <td>2.0</td>\n",
       "      <td>Faixa Etária</td>\n",
       "      <td>FJ4184</td>\n",
       "      <td>PFIZER</td>\n",
       "      <td>Organization/00394544000851</td>\n",
       "      <td>2021-11-22</td>\n",
       "      <td>2ª Dose</td>\n",
       "      <td>87</td>\n",
       "      <td>COVID-19 PFIZER - COMIRNATY</td>\n",
       "      <td>Novo PNI</td>\n",
       "    </tr>\n",
       "    <tr>\n",
       "      <th>1645143</th>\n",
       "      <td>32878b87-f0e7-4bd1-90af-33f7f9f2ce9f-i0b0</td>\n",
       "      <td>2be0ca2fae099f1f435d476d0a3e494ce73aa602f6f853...</td>\n",
       "      <td>42.0</td>\n",
       "      <td>1979-03-12</td>\n",
       "      <td>M</td>\n",
       "      <td>3.0</td>\n",
       "      <td>PARDA</td>\n",
       "      <td>530010.0</td>\n",
       "      <td>10.0</td>\n",
       "      <td>BRASILIA</td>\n",
       "      <td>...</td>\n",
       "      <td>2.0</td>\n",
       "      <td>Faixa Etária</td>\n",
       "      <td>218VCD255Z</td>\n",
       "      <td>ASTRAZENECA/FIOCRUZ</td>\n",
       "      <td>Organization/33781055000135</td>\n",
       "      <td>2021-10-20</td>\n",
       "      <td>2ª Dose</td>\n",
       "      <td>85</td>\n",
       "      <td>COVID-19 ASTRAZENECA/FIOCRUZ - COVISHIELD</td>\n",
       "      <td>Novo PNI</td>\n",
       "    </tr>\n",
       "    <tr>\n",
       "      <th>1645289</th>\n",
       "      <td>52b6c464-9743-4eca-87a7-56542fe4717a-i0b0</td>\n",
       "      <td>196d14eede7c8537a5687690e82de3567906e5f0240761...</td>\n",
       "      <td>29.0</td>\n",
       "      <td>1992-05-31</td>\n",
       "      <td>F</td>\n",
       "      <td>2.0</td>\n",
       "      <td>PRETA</td>\n",
       "      <td>530010.0</td>\n",
       "      <td>10.0</td>\n",
       "      <td>BRASILIA</td>\n",
       "      <td>...</td>\n",
       "      <td>9.0</td>\n",
       "      <td>Trabalhadores de Saúde</td>\n",
       "      <td>210269</td>\n",
       "      <td>SINOVAC/BUTANTAN</td>\n",
       "      <td>Organization/61189445000156</td>\n",
       "      <td>2021-06-29</td>\n",
       "      <td>2ª Dose</td>\n",
       "      <td>86</td>\n",
       "      <td>COVID-19 SINOVAC/BUTANTAN - CORONAVAC</td>\n",
       "      <td>Novo PNI</td>\n",
       "    </tr>\n",
       "    <tr>\n",
       "      <th>1646570</th>\n",
       "      <td>7d1fc91e-160b-43b2-82a3-a4b00856292b-i0b0</td>\n",
       "      <td>c74bf2e5a68575c4913ab37a8cf17657899a72ccc4ad29...</td>\n",
       "      <td>53.0</td>\n",
       "      <td>1967-10-23</td>\n",
       "      <td>F</td>\n",
       "      <td>99.0</td>\n",
       "      <td>SEM INFORMACAO</td>\n",
       "      <td>230440.0</td>\n",
       "      <td>10.0</td>\n",
       "      <td>FORTALEZA</td>\n",
       "      <td>...</td>\n",
       "      <td>1.0</td>\n",
       "      <td>Comorbidades</td>\n",
       "      <td>210121</td>\n",
       "      <td>ASTRAZENECA</td>\n",
       "      <td>Organization/00394544000851</td>\n",
       "      <td>2021-08-14</td>\n",
       "      <td>2ª Dose</td>\n",
       "      <td>89</td>\n",
       "      <td>COVID-19 ASTRAZENECA - ChAdOx1-S</td>\n",
       "      <td>Novo PNI</td>\n",
       "    </tr>\n",
       "    <tr>\n",
       "      <th>1646676</th>\n",
       "      <td>aa5fbb1a-f389-44a8-b341-237b84198da5-i0b0</td>\n",
       "      <td>b5025ea863eb1970e6d7e4daabb1a5e1a860b5f985c557...</td>\n",
       "      <td>49.0</td>\n",
       "      <td>1971-10-04</td>\n",
       "      <td>M</td>\n",
       "      <td>99.0</td>\n",
       "      <td>SEM INFORMACAO</td>\n",
       "      <td>530010.0</td>\n",
       "      <td>10.0</td>\n",
       "      <td>BRASILIA</td>\n",
       "      <td>...</td>\n",
       "      <td>9.0</td>\n",
       "      <td>Trabalhadores de Saúde</td>\n",
       "      <td>210121</td>\n",
       "      <td>ASTRAZENECA</td>\n",
       "      <td>Organization/00394544000851</td>\n",
       "      <td>2021-08-16</td>\n",
       "      <td>1ª Dose</td>\n",
       "      <td>89</td>\n",
       "      <td>COVID-19 ASTRAZENECA - ChAdOx1-S</td>\n",
       "      <td>Novo PNI</td>\n",
       "    </tr>\n",
       "  </tbody>\n",
       "</table>\n",
       "<p>2692 rows × 32 columns</p>\n",
       "</div>"
      ],
      "text/plain": [
       "                                       document_id  \\\n",
       "1171     abbccaf6-e59c-49f5-bbbd-003717d0d5dc-i0b0   \n",
       "1766     cfebd766-d8db-4ba0-b3fc-971fa424db7f-i0b0   \n",
       "3103     ddee5d54-a7dc-4b31-a48b-6f4ecc996f67-i0b0   \n",
       "3928     0f34c483-1764-4299-b3a6-50703cc8e51a-i0b0   \n",
       "4221     f954b026-bdb0-496d-8651-0902f985ab2b-i0b0   \n",
       "...                                            ...   \n",
       "1644730  39452adf-1d12-4030-823c-ba4526113de0-i0b0   \n",
       "1645143  32878b87-f0e7-4bd1-90af-33f7f9f2ce9f-i0b0   \n",
       "1645289  52b6c464-9743-4eca-87a7-56542fe4717a-i0b0   \n",
       "1646570  7d1fc91e-160b-43b2-82a3-a4b00856292b-i0b0   \n",
       "1646676  aa5fbb1a-f389-44a8-b341-237b84198da5-i0b0   \n",
       "\n",
       "                                               paciente_id  paciente_idade  \\\n",
       "1171     6e8c757678aa63e45a68b30df4e31055e6232f4dfdfeaa...            19.0   \n",
       "1766     8618955d041c76fd6636181db0755d89cafd595c80d047...            53.0   \n",
       "3103     16eee3601325b8f85dc2ce53627e32ab5cb3736c559fc0...            43.0   \n",
       "3928     c1b7686c3b3a9d3da504755054337e057047649d62cb19...            61.0   \n",
       "4221     36db5bbd5c98a055fc3e8f15330a227381a5ac1485ceab...            22.0   \n",
       "...                                                    ...             ...   \n",
       "1644730  d19c8319bf60ccf34c581669afe7522686d70ba1d3bce9...            69.0   \n",
       "1645143  2be0ca2fae099f1f435d476d0a3e494ce73aa602f6f853...            42.0   \n",
       "1645289  196d14eede7c8537a5687690e82de3567906e5f0240761...            29.0   \n",
       "1646570  c74bf2e5a68575c4913ab37a8cf17657899a72ccc4ad29...            53.0   \n",
       "1646676  b5025ea863eb1970e6d7e4daabb1a5e1a860b5f985c557...            49.0   \n",
       "\n",
       "        paciente_dataNascimento paciente_enumSexoBiologico  \\\n",
       "1171                 2002-03-28                          M   \n",
       "1766                 1967-10-24                          F   \n",
       "3103                 1978-10-13                          M   \n",
       "3928                 1959-11-25                          F   \n",
       "4221                 1999-05-05                          M   \n",
       "...                         ...                        ...   \n",
       "1644730              1952-01-17                          F   \n",
       "1645143              1979-03-12                          M   \n",
       "1645289              1992-05-31                          F   \n",
       "1646570              1967-10-23                          F   \n",
       "1646676              1971-10-04                          M   \n",
       "\n",
       "         paciente_racaCor_codigo paciente_racaCor_valor  \\\n",
       "1171                         3.0                  PARDA   \n",
       "1766                         1.0                 BRANCA   \n",
       "3103                        99.0         SEM INFORMACAO   \n",
       "3928                         1.0                 BRANCA   \n",
       "4221                         3.0                  PARDA   \n",
       "...                          ...                    ...   \n",
       "1644730                      3.0                  PARDA   \n",
       "1645143                      3.0                  PARDA   \n",
       "1645289                      2.0                  PRETA   \n",
       "1646570                     99.0         SEM INFORMACAO   \n",
       "1646676                     99.0         SEM INFORMACAO   \n",
       "\n",
       "        paciente_endereco_coIbgeMunicipio paciente_endereco_coPais  \\\n",
       "1171                             530010.0                     10.0   \n",
       "1766                             530010.0                     10.0   \n",
       "3103                             530010.0                     10.0   \n",
       "3928                             530010.0                     10.0   \n",
       "4221                             530010.0                     10.0   \n",
       "...                                   ...                      ...   \n",
       "1644730                          530010.0                     10.0   \n",
       "1645143                          530010.0                     10.0   \n",
       "1645289                          530010.0                     10.0   \n",
       "1646570                          230440.0                     10.0   \n",
       "1646676                          530010.0                     10.0   \n",
       "\n",
       "        paciente_endereco_nmMunicipio  ... vacina_categoria_codigo  \\\n",
       "1171                         BRASILIA  ...                     2.0   \n",
       "1766                         BRASILIA  ...                     2.0   \n",
       "3103                         BRASILIA  ...                     2.0   \n",
       "3928                         BRASILIA  ...                     NaN   \n",
       "4221                         BRASILIA  ...                     2.0   \n",
       "...                               ...  ...                     ...   \n",
       "1644730                      BRASILIA  ...                     2.0   \n",
       "1645143                      BRASILIA  ...                     2.0   \n",
       "1645289                      BRASILIA  ...                     9.0   \n",
       "1646570                     FORTALEZA  ...                     1.0   \n",
       "1646676                      BRASILIA  ...                     9.0   \n",
       "\n",
       "          vacina_categoria_nome vacina_lote vacina_fabricante_nome  \\\n",
       "1171               Faixa Etária      FD7222                 PFIZER   \n",
       "1766               Faixa Etária      210373       SINOVAC/BUTANTAN   \n",
       "3103               Faixa Etária      210388       SINOVAC/BUTANTAN   \n",
       "3928                        NaN    213VCD04    ASTRAZENECA/FIOCRUZ   \n",
       "4221               Faixa Etária      210373       SINOVAC/BUTANTAN   \n",
       "...                         ...         ...                    ...   \n",
       "1644730            Faixa Etária      FJ4184                 PFIZER   \n",
       "1645143            Faixa Etária  218VCD255Z    ASTRAZENECA/FIOCRUZ   \n",
       "1645289  Trabalhadores de Saúde      210269       SINOVAC/BUTANTAN   \n",
       "1646570            Comorbidades      210121            ASTRAZENECA   \n",
       "1646676  Trabalhadores de Saúde      210121            ASTRAZENECA   \n",
       "\n",
       "         vacina_fabricante_referencia vacina_dataAplicacao  \\\n",
       "1171      Organization/00394544000851           2021-08-18   \n",
       "1766      Organization/61189445000156           2021-09-10   \n",
       "3103      Organization/61189445000156           2021-10-14   \n",
       "3928                              NaN           2021-07-01   \n",
       "4221      Organization/61189445000156           2021-09-11   \n",
       "...                               ...                  ...   \n",
       "1644730   Organization/00394544000851           2021-11-22   \n",
       "1645143   Organization/33781055000135           2021-10-20   \n",
       "1645289   Organization/61189445000156           2021-06-29   \n",
       "1646570   Organization/00394544000851           2021-08-14   \n",
       "1646676   Organization/00394544000851           2021-08-16   \n",
       "\n",
       "        vacina_descricao_dose  vacina_codigo  \\\n",
       "1171                  1ª Dose             87   \n",
       "1766                  1ª Dose             86   \n",
       "3103                  2ª Dose             86   \n",
       "3928                  1ª Dose             85   \n",
       "4221                  2ª Dose             86   \n",
       "...                       ...            ...   \n",
       "1644730               2ª Dose             87   \n",
       "1645143               2ª Dose             85   \n",
       "1645289               2ª Dose             86   \n",
       "1646570               2ª Dose             89   \n",
       "1646676               1ª Dose             89   \n",
       "\n",
       "                                       vacina_nome  \\\n",
       "1171                   COVID-19 PFIZER - COMIRNATY   \n",
       "1766         COVID-19 SINOVAC/BUTANTAN - CORONAVAC   \n",
       "3103         COVID-19 SINOVAC/BUTANTAN - CORONAVAC   \n",
       "3928     COVID-19 ASTRAZENECA/FIOCRUZ - COVISHIELD   \n",
       "4221         COVID-19 SINOVAC/BUTANTAN - CORONAVAC   \n",
       "...                                            ...   \n",
       "1644730                COVID-19 PFIZER - COMIRNATY   \n",
       "1645143  COVID-19 ASTRAZENECA/FIOCRUZ - COVISHIELD   \n",
       "1645289      COVID-19 SINOVAC/BUTANTAN - CORONAVAC   \n",
       "1646570           COVID-19 ASTRAZENECA - ChAdOx1-S   \n",
       "1646676           COVID-19 ASTRAZENECA - ChAdOx1-S   \n",
       "\n",
       "                        sistema_origem  \n",
       "1171                          Novo PNI  \n",
       "1766                          Novo PNI  \n",
       "3103                          Novo PNI  \n",
       "3928     ESUS APS - NACIONAL (OFFLINE)  \n",
       "4221                          Novo PNI  \n",
       "...                                ...  \n",
       "1644730                       Novo PNI  \n",
       "1645143                       Novo PNI  \n",
       "1645289                       Novo PNI  \n",
       "1646570                       Novo PNI  \n",
       "1646676                       Novo PNI  \n",
       "\n",
       "[2692 rows x 32 columns]"
      ]
     },
     "execution_count": 16,
     "metadata": {},
     "output_type": "execute_result"
    }
   ],
   "source": [
    "#Busca de dados duplicados pelo ['paciente_id', 'paciente_idade', 'vacina_descricao_dose', 'paciente_enumSexoBiologico', ''paciente_racaCor_valor'']\n",
    "#Busca com múltiplos critérios para evitar falsas dupicações.\n",
    "data[data.duplicated(['paciente_id', 'paciente_idade', 'vacina_descricao_dose', 'paciente_enumSexoBiologico', 'paciente_racaCor_valor'], keep=False)]"
   ]
  },
  {
   "cell_type": "code",
   "execution_count": 17,
   "id": "fe8a8541",
   "metadata": {},
   "outputs": [],
   "source": [
    "#Exclusão de duplicados identificados\n",
    "data.drop_duplicates(subset=['paciente_id', 'paciente_idade', 'vacina_descricao_dose', 'paciente_enumSexoBiologico', 'paciente_racaCor_valor'], keep='first', inplace=True)"
   ]
  },
  {
   "cell_type": "code",
   "execution_count": 18,
   "id": "8ad7bc7e",
   "metadata": {},
   "outputs": [
    {
     "data": {
      "text/html": [
       "<div>\n",
       "<style scoped>\n",
       "    .dataframe tbody tr th:only-of-type {\n",
       "        vertical-align: middle;\n",
       "    }\n",
       "\n",
       "    .dataframe tbody tr th {\n",
       "        vertical-align: top;\n",
       "    }\n",
       "\n",
       "    .dataframe thead th {\n",
       "        text-align: right;\n",
       "    }\n",
       "</style>\n",
       "<table border=\"1\" class=\"dataframe\">\n",
       "  <thead>\n",
       "    <tr style=\"text-align: right;\">\n",
       "      <th></th>\n",
       "      <th>document_id</th>\n",
       "      <th>paciente_id</th>\n",
       "      <th>paciente_idade</th>\n",
       "      <th>paciente_dataNascimento</th>\n",
       "      <th>paciente_enumSexoBiologico</th>\n",
       "      <th>paciente_racaCor_codigo</th>\n",
       "      <th>paciente_racaCor_valor</th>\n",
       "      <th>paciente_endereco_coIbgeMunicipio</th>\n",
       "      <th>paciente_endereco_coPais</th>\n",
       "      <th>paciente_endereco_nmMunicipio</th>\n",
       "      <th>...</th>\n",
       "      <th>vacina_categoria_codigo</th>\n",
       "      <th>vacina_categoria_nome</th>\n",
       "      <th>vacina_lote</th>\n",
       "      <th>vacina_fabricante_nome</th>\n",
       "      <th>vacina_fabricante_referencia</th>\n",
       "      <th>vacina_dataAplicacao</th>\n",
       "      <th>vacina_descricao_dose</th>\n",
       "      <th>vacina_codigo</th>\n",
       "      <th>vacina_nome</th>\n",
       "      <th>sistema_origem</th>\n",
       "    </tr>\n",
       "  </thead>\n",
       "  <tbody>\n",
       "  </tbody>\n",
       "</table>\n",
       "<p>0 rows × 32 columns</p>\n",
       "</div>"
      ],
      "text/plain": [
       "Empty DataFrame\n",
       "Columns: [document_id, paciente_id, paciente_idade, paciente_dataNascimento, paciente_enumSexoBiologico, paciente_racaCor_codigo, paciente_racaCor_valor, paciente_endereco_coIbgeMunicipio, paciente_endereco_coPais, paciente_endereco_nmMunicipio, paciente_endereco_nmPais, paciente_endereco_uf, paciente_endereco_cep, paciente_nacionalidade_enumNacionalidade, estabelecimento_valor, estabelecimento_razaoSocial, estalecimento_noFantasia, estabelecimento_municipio_codigo, estabelecimento_municipio_nome, estabelecimento_uf, vacina_grupoAtendimento_codigo, vacina_grupoAtendimento_nome, vacina_categoria_codigo, vacina_categoria_nome, vacina_lote, vacina_fabricante_nome, vacina_fabricante_referencia, vacina_dataAplicacao, vacina_descricao_dose, vacina_codigo, vacina_nome, sistema_origem]\n",
       "Index: []\n",
       "\n",
       "[0 rows x 32 columns]"
      ]
     },
     "execution_count": 18,
     "metadata": {},
     "output_type": "execute_result"
    }
   ],
   "source": [
    "#Check na exclusão\n",
    "data[data.duplicated(['paciente_id', 'paciente_idade', 'vacina_descricao_dose', 'paciente_enumSexoBiologico', 'paciente_racaCor_valor'], keep=False)]"
   ]
  },
  {
   "cell_type": "code",
   "execution_count": 19,
   "id": "3b14298f",
   "metadata": {},
   "outputs": [
    {
     "data": {
      "text/plain": [
       "document_id                                      0\n",
       "paciente_id                                      1\n",
       "paciente_idade                                   0\n",
       "paciente_dataNascimento                          1\n",
       "paciente_enumSexoBiologico                       0\n",
       "paciente_racaCor_codigo                          0\n",
       "paciente_racaCor_valor                           0\n",
       "paciente_endereco_coIbgeMunicipio            13645\n",
       "paciente_endereco_coPais                     13604\n",
       "paciente_endereco_nmMunicipio                13633\n",
       "paciente_endereco_nmPais                     13604\n",
       "paciente_endereco_uf                         13645\n",
       "paciente_endereco_cep                       259393\n",
       "paciente_nacionalidade_enumNacionalidade       876\n",
       "estabelecimento_valor                            0\n",
       "estabelecimento_razaoSocial                      0\n",
       "estalecimento_noFantasia                         0\n",
       "estabelecimento_municipio_codigo                 0\n",
       "estabelecimento_municipio_nome                   0\n",
       "estabelecimento_uf                               0\n",
       "vacina_grupoAtendimento_codigo                   0\n",
       "vacina_grupoAtendimento_nome                     0\n",
       "vacina_categoria_codigo                      12880\n",
       "vacina_categoria_nome                        12880\n",
       "vacina_lote                                      0\n",
       "vacina_fabricante_nome                           0\n",
       "vacina_fabricante_referencia                  1431\n",
       "vacina_dataAplicacao                             0\n",
       "vacina_descricao_dose                            0\n",
       "vacina_codigo                                    0\n",
       "vacina_nome                                      0\n",
       "sistema_origem                                   0\n",
       "dtype: int64"
      ]
     },
     "execution_count": 19,
     "metadata": {},
     "output_type": "execute_result"
    }
   ],
   "source": [
    "#Check nos dados faltantes, visto que grande quantidade de dados foram removidos\n",
    "data.isnull().sum()"
   ]
  },
  {
   "cell_type": "code",
   "execution_count": 20,
   "id": "240736a1",
   "metadata": {},
   "outputs": [
    {
     "data": {
      "text/plain": [
       "paciente_endereco_coIbgeMunicipio  paciente_endereco_nmMunicipio\n",
       "110001.0                           ALTA FLORESTA D'OESTE            14\n",
       "110002.0                           ARIQUEMES                        30\n",
       "110004.0                           CACOAL                           31\n",
       "110005.0                           CEREJEIRAS                        4\n",
       "110006.0                           COLORADO DO OESTE                 4\n",
       "                                                                    ..\n",
       "539921                             SOBRADINHO                       18\n",
       "539924                             TAGUATINGA                        2\n",
       "999999                             INVALIDO                         87\n",
       "None                               BRASILIA - DF                     1\n",
       "                                   None                              9\n",
       "Length: 6563, dtype: int64"
      ]
     },
     "execution_count": 20,
     "metadata": {},
     "output_type": "execute_result"
    }
   ],
   "source": [
    "#Verificar como está estruturado o dado\n",
    "agrup_mun_ibge=data.groupby(['paciente_endereco_coIbgeMunicipio', 'paciente_endereco_nmMunicipio']).size()\n",
    "agrup_mun_ibge"
   ]
  },
  {
   "cell_type": "code",
   "execution_count": 21,
   "id": "86151004",
   "metadata": {},
   "outputs": [
    {
     "data": {
      "text/plain": [
       "530010.0"
      ]
     },
     "execution_count": 21,
     "metadata": {},
     "output_type": "execute_result"
    }
   ],
   "source": [
    "#Calculando moda 'paciente_endereco_coIbgeMunicipio'\n",
    "moda_mun_ibge=sns.mode(data['paciente_endereco_coIbgeMunicipio'])\n",
    "moda_mun_ibge"
   ]
  },
  {
   "cell_type": "code",
   "execution_count": 22,
   "id": "dd7de84b",
   "metadata": {},
   "outputs": [],
   "source": [
    "# substituindo NA em 'paciente_endereco_coIbgeMunicipio' por moda\n",
    "data['paciente_endereco_coIbgeMunicipio'].fillna(moda_mun_ibge, inplace=True)"
   ]
  },
  {
   "cell_type": "code",
   "execution_count": 23,
   "id": "f9a931c5",
   "metadata": {},
   "outputs": [],
   "source": [
    "# agrup_nom_muninc=data.groupby(['paciente_endereco_nmMunicipio']).size()\n",
    "# agrup_nom_muninc"
   ]
  },
  {
   "cell_type": "code",
   "execution_count": 24,
   "id": "88b64b15",
   "metadata": {},
   "outputs": [],
   "source": [
    "#Tentativa 1 de substituição dos NA em 'paciente_endereco_nmMunicipio' \n",
    "# de acordo com a coluna 'paciente_endereco_coIbgeMunicipio'\n",
    "# data.loc[data['paciente_endereco_coIbgeMunicipio']=='530010.0', 'paciente_endereco_nmMunicipio']='BRASILIA'"
   ]
  },
  {
   "cell_type": "code",
   "execution_count": 25,
   "id": "e85ebf1d",
   "metadata": {},
   "outputs": [
    {
     "data": {
      "text/plain": [
       "document_id                                      0\n",
       "paciente_id                                      1\n",
       "paciente_idade                                   0\n",
       "paciente_dataNascimento                          1\n",
       "paciente_enumSexoBiologico                       0\n",
       "paciente_racaCor_codigo                          0\n",
       "paciente_racaCor_valor                           0\n",
       "paciente_endereco_coIbgeMunicipio                0\n",
       "paciente_endereco_coPais                     13604\n",
       "paciente_endereco_nmMunicipio                13633\n",
       "paciente_endereco_nmPais                     13604\n",
       "paciente_endereco_uf                         13645\n",
       "paciente_endereco_cep                       259393\n",
       "paciente_nacionalidade_enumNacionalidade       876\n",
       "estabelecimento_valor                            0\n",
       "estabelecimento_razaoSocial                      0\n",
       "estalecimento_noFantasia                         0\n",
       "estabelecimento_municipio_codigo                 0\n",
       "estabelecimento_municipio_nome                   0\n",
       "estabelecimento_uf                               0\n",
       "vacina_grupoAtendimento_codigo                   0\n",
       "vacina_grupoAtendimento_nome                     0\n",
       "vacina_categoria_codigo                      12880\n",
       "vacina_categoria_nome                        12880\n",
       "vacina_lote                                      0\n",
       "vacina_fabricante_nome                           0\n",
       "vacina_fabricante_referencia                  1431\n",
       "vacina_dataAplicacao                             0\n",
       "vacina_descricao_dose                            0\n",
       "vacina_codigo                                    0\n",
       "vacina_nome                                      0\n",
       "sistema_origem                                   0\n",
       "dtype: int64"
      ]
     },
     "execution_count": 25,
     "metadata": {},
     "output_type": "execute_result"
    }
   ],
   "source": [
    "data.isnull().sum()"
   ]
  },
  {
   "cell_type": "code",
   "execution_count": 26,
   "id": "b909114c",
   "metadata": {},
   "outputs": [],
   "source": [
    "#Tentativa 2 de substituição dos NA em 'paciente_endereco_nmMunicipio' \n",
    "# de acordo com a coluna 'paciente_endereco_coIbgeMunicipio'\n",
    "data['paciente_endereco_nmMunicipio'].fillna('paciente_endereco_coIbgeMunicipio', inplace=True)\n",
    "data.loc[data['paciente_endereco_coIbgeMunicipio']==530010.0, 'paciente_endereco_nmMunicipio']='BRASILIA'"
   ]
  },
  {
   "cell_type": "code",
   "execution_count": 27,
   "id": "2e891c81",
   "metadata": {},
   "outputs": [
    {
     "data": {
      "text/plain": [
       "0"
      ]
     },
     "execution_count": 27,
     "metadata": {},
     "output_type": "execute_result"
    }
   ],
   "source": [
    "#Check se foi feita a substituição\n",
    "data['paciente_endereco_nmMunicipio']=='paciente_endereco_coIbgeMunicipio'\n",
    "len(data.loc[data['paciente_endereco_nmMunicipio']=='paciente_endereco_coIbgeMunicipio', :])"
   ]
  },
  {
   "cell_type": "code",
   "execution_count": 28,
   "id": "6694bd35",
   "metadata": {},
   "outputs": [
    {
     "data": {
      "text/plain": [
       "document_id                                      0\n",
       "paciente_id                                      1\n",
       "paciente_idade                                   0\n",
       "paciente_dataNascimento                          1\n",
       "paciente_enumSexoBiologico                       0\n",
       "paciente_racaCor_codigo                          0\n",
       "paciente_racaCor_valor                           0\n",
       "paciente_endereco_coIbgeMunicipio                0\n",
       "paciente_endereco_coPais                     13604\n",
       "paciente_endereco_nmMunicipio                    0\n",
       "paciente_endereco_nmPais                     13604\n",
       "paciente_endereco_uf                         13645\n",
       "paciente_endereco_cep                       259393\n",
       "paciente_nacionalidade_enumNacionalidade       876\n",
       "estabelecimento_valor                            0\n",
       "estabelecimento_razaoSocial                      0\n",
       "estalecimento_noFantasia                         0\n",
       "estabelecimento_municipio_codigo                 0\n",
       "estabelecimento_municipio_nome                   0\n",
       "estabelecimento_uf                               0\n",
       "vacina_grupoAtendimento_codigo                   0\n",
       "vacina_grupoAtendimento_nome                     0\n",
       "vacina_categoria_codigo                      12880\n",
       "vacina_categoria_nome                        12880\n",
       "vacina_lote                                      0\n",
       "vacina_fabricante_nome                           0\n",
       "vacina_fabricante_referencia                  1431\n",
       "vacina_dataAplicacao                             0\n",
       "vacina_descricao_dose                            0\n",
       "vacina_codigo                                    0\n",
       "vacina_nome                                      0\n",
       "sistema_origem                                   0\n",
       "dtype: int64"
      ]
     },
     "execution_count": 28,
     "metadata": {},
     "output_type": "execute_result"
    }
   ],
   "source": [
    "data.isnull().sum()"
   ]
  },
  {
   "cell_type": "code",
   "execution_count": 29,
   "id": "22207811",
   "metadata": {},
   "outputs": [
    {
     "data": {
      "text/plain": [
       "10.0"
      ]
     },
     "execution_count": 29,
     "metadata": {},
     "output_type": "execute_result"
    }
   ],
   "source": [
    "moda_cod_país=sns.mode(data['paciente_endereco_coPais'])\n",
    "moda_cod_país"
   ]
  },
  {
   "cell_type": "code",
   "execution_count": 30,
   "id": "f7881539",
   "metadata": {},
   "outputs": [],
   "source": [
    "#Substituição de NA na col 'paciente_endereco_coPais' pela moda\n",
    "data['paciente_endereco_coPais'].fillna(moda_cod_país, inplace=True)"
   ]
  },
  {
   "cell_type": "code",
   "execution_count": 31,
   "id": "9a03f150",
   "metadata": {},
   "outputs": [],
   "source": [
    "#Substituição de NA na col 'paciente_endereço_nmPais' de acordo com a coluna 'paciente_endereço_coPais'\n",
    "data['paciente_endereco_nmPais'].fillna('paciente_endereco_coPais', inplace=True)\n",
    "data.loc[data['paciente_endereco_coPais']==10.0, 'paciente_endereco_nmPais']='BRASIL'"
   ]
  },
  {
   "cell_type": "code",
   "execution_count": 32,
   "id": "8e011ea8",
   "metadata": {},
   "outputs": [
    {
     "data": {
      "text/plain": [
       "0"
      ]
     },
     "execution_count": 32,
     "metadata": {},
     "output_type": "execute_result"
    }
   ],
   "source": [
    "data['paciente_endereco_nmPais']=='paciente_endereco_coPais'\n",
    "len(data.loc[data['paciente_endereco_nmPais']=='paciente_endereco_coPais', :])"
   ]
  },
  {
   "cell_type": "code",
   "execution_count": 33,
   "id": "fb755963",
   "metadata": {},
   "outputs": [
    {
     "data": {
      "text/plain": [
       "paciente_endereco_coPais  paciente_endereco_nmPais         \n",
       "10.0                      BRASIL                               1532355\n",
       "24.0                      PARAGUAI                                   1\n",
       "41.0                      JAPAO                                      1\n",
       "45.0                      PORTUGAL                                   1\n",
       "92.0                      VENEZUELA                                  2\n",
       "94.0                      ANDORRA                                    1\n",
       "196.0                     GUINE EQUATORIAL                           1\n",
       "221.0                     RUANDA                                     2\n",
       "224.0                     SAO TOME E PRINCIPE                        2\n",
       "329.0                     TIMOR LESTE                                1\n",
       "356.0                     CONGO, REPUBLICA DO (BRAZZAVILLE)          1\n",
       "10                        BRASIL                                113611\n",
       "None                      None                                       8\n",
       "dtype: int64"
      ]
     },
     "execution_count": 33,
     "metadata": {},
     "output_type": "execute_result"
    }
   ],
   "source": [
    "#Check nos dados das colunas Pais\n",
    "agrup_pais=data.groupby(['paciente_endereco_coPais', 'paciente_endereco_nmPais']).size()\n",
    "agrup_pais"
   ]
  },
  {
   "cell_type": "code",
   "execution_count": 34,
   "id": "60187957",
   "metadata": {},
   "outputs": [],
   "source": [
    "#Padronização dados col 'paciente_endereco_nmPais'\n",
    "data.loc[data['paciente_endereco_nmPais']=='None', 'paciente_endereco_nmPais']='BRASIL'"
   ]
  },
  {
   "cell_type": "code",
   "execution_count": 35,
   "id": "465c0a53",
   "metadata": {},
   "outputs": [],
   "source": [
    "#Padronização dados col 'paciente_endereco_coPais'\n",
    "data.loc[data['paciente_endereco_coPais']=='None', 'paciente_endereco_coPais']=10.0"
   ]
  },
  {
   "cell_type": "code",
   "execution_count": 36,
   "id": "42a3af4c",
   "metadata": {},
   "outputs": [],
   "source": [
    "#Padronização dados col 'paciente_endereco_coPais'\n",
    "# Convertendo o tipo de variável para possibilidar a padronização \n",
    "data['paciente_endereco_coPais']=data['paciente_endereco_coPais'].astype(float)"
   ]
  },
  {
   "cell_type": "code",
   "execution_count": 37,
   "id": "b8318898",
   "metadata": {},
   "outputs": [],
   "source": [
    "#Padronização dados col 'paciente_endereco_coPais'\n",
    "data.loc[data['paciente_endereco_coPais']==10, 'paciente_endereco_coPais']=10.0"
   ]
  },
  {
   "cell_type": "code",
   "execution_count": 38,
   "id": "cef580c1",
   "metadata": {},
   "outputs": [
    {
     "data": {
      "text/plain": [
       "paciente_endereco_coPais  paciente_endereco_nmPais         \n",
       "10.0                      BRASIL                               1645974\n",
       "24.0                      PARAGUAI                                   1\n",
       "41.0                      JAPAO                                      1\n",
       "45.0                      PORTUGAL                                   1\n",
       "92.0                      VENEZUELA                                  2\n",
       "94.0                      ANDORRA                                    1\n",
       "196.0                     GUINE EQUATORIAL                           1\n",
       "221.0                     RUANDA                                     2\n",
       "224.0                     SAO TOME E PRINCIPE                        2\n",
       "329.0                     TIMOR LESTE                                1\n",
       "356.0                     CONGO, REPUBLICA DO (BRAZZAVILLE)          1\n",
       "dtype: int64"
      ]
     },
     "execution_count": 38,
     "metadata": {},
     "output_type": "execute_result"
    }
   ],
   "source": [
    "agrup_pais2=data.groupby(['paciente_endereco_coPais', 'paciente_endereco_nmPais']).size()\n",
    "agrup_pais2"
   ]
  },
  {
   "cell_type": "code",
   "execution_count": 39,
   "id": "d256bf14",
   "metadata": {},
   "outputs": [
    {
     "data": {
      "text/plain": [
       "document_id                                      0\n",
       "paciente_id                                      1\n",
       "paciente_idade                                   0\n",
       "paciente_dataNascimento                          1\n",
       "paciente_enumSexoBiologico                       0\n",
       "paciente_racaCor_codigo                          0\n",
       "paciente_racaCor_valor                           0\n",
       "paciente_endereco_coIbgeMunicipio                0\n",
       "paciente_endereco_coPais                         0\n",
       "paciente_endereco_nmMunicipio                    0\n",
       "paciente_endereco_nmPais                         0\n",
       "paciente_endereco_uf                         13645\n",
       "paciente_endereco_cep                       259393\n",
       "paciente_nacionalidade_enumNacionalidade       876\n",
       "estabelecimento_valor                            0\n",
       "estabelecimento_razaoSocial                      0\n",
       "estalecimento_noFantasia                         0\n",
       "estabelecimento_municipio_codigo                 0\n",
       "estabelecimento_municipio_nome                   0\n",
       "estabelecimento_uf                               0\n",
       "vacina_grupoAtendimento_codigo                   0\n",
       "vacina_grupoAtendimento_nome                     0\n",
       "vacina_categoria_codigo                      12880\n",
       "vacina_categoria_nome                        12880\n",
       "vacina_lote                                      0\n",
       "vacina_fabricante_nome                           0\n",
       "vacina_fabricante_referencia                  1431\n",
       "vacina_dataAplicacao                             0\n",
       "vacina_descricao_dose                            0\n",
       "vacina_codigo                                    0\n",
       "vacina_nome                                      0\n",
       "sistema_origem                                   0\n",
       "dtype: int64"
      ]
     },
     "execution_count": 39,
     "metadata": {},
     "output_type": "execute_result"
    }
   ],
   "source": [
    "data.isnull().sum()"
   ]
  },
  {
   "cell_type": "code",
   "execution_count": 40,
   "id": "6737a3d2",
   "metadata": {},
   "outputs": [
    {
     "data": {
      "text/plain": [
       "0    SP\n",
       "1    DF\n",
       "2    DF\n",
       "3    PE\n",
       "4    BA\n",
       "Name: paciente_endereco_uf, dtype: object"
      ]
     },
     "execution_count": 40,
     "metadata": {},
     "output_type": "execute_result"
    }
   ],
   "source": [
    "data['paciente_endereco_uf'].head()"
   ]
  },
  {
   "cell_type": "code",
   "execution_count": 41,
   "id": "f3266cc6",
   "metadata": {},
   "outputs": [],
   "source": [
    "data['paciente_endereco_uf'].fillna('paciente_endereco_coIbgeMunicipio', inplace=True)\n",
    "data.loc[data['paciente_endereco_coIbgeMunicipio']==530010.0, 'paciente_endereco_uf']='DF'"
   ]
  },
  {
   "cell_type": "code",
   "execution_count": 42,
   "id": "e9f4fbb0",
   "metadata": {},
   "outputs": [
    {
     "data": {
      "text/plain": [
       "0"
      ]
     },
     "execution_count": 42,
     "metadata": {},
     "output_type": "execute_result"
    }
   ],
   "source": [
    "data['paciente_endereco_uf']=='paciente_endereco_coIbgeMunicipio'\n",
    "len(data.loc[data['paciente_endereco_uf']=='paciente_endereco_coIbgeMunicipio', :])"
   ]
  },
  {
   "cell_type": "code",
   "execution_count": 43,
   "id": "75b5f8ce",
   "metadata": {},
   "outputs": [
    {
     "data": {
      "text/plain": [
       "vacina_categoria_codigo  vacina_categoria_nome                          \n",
       "1.0                      Comorbidades                                        147238\n",
       "2.0                      Faixa Etária                                       1244320\n",
       "3.0                      Pessoas de 60 anos ou mais institucionalizadas        5023\n",
       "4.0                      Forças Armadas (membros ativos)                      11482\n",
       "5.0                      Forças de Segurança e Salvamento                     15971\n",
       "6.0                      Povos e Comunidades Tradicionais                       198\n",
       "7.0                      Povos Indígenas                                        263\n",
       "8.0                      Trabalhadores da Educação                            33282\n",
       "9.0                      Trabalhadores de Saúde                              129573\n",
       "10.0                     Trabalhadores de Transporte                           8156\n",
       "11.0                     Pessoas com Deficiência                               9808\n",
       "12.0                     Pessoas em Situação de Rua                             724\n",
       "13.0                     Trabalhadores Portuários                               729\n",
       "14.0                     Funcionário do Sistema de Privação de Liberdade       1605\n",
       "15.0                     População Privada de Liberdade                        6304\n",
       "16.0                     Trabalhadores Industriais                              847\n",
       "21.0                     Gestantes                                             8345\n",
       "25.0                     Puérperas                                             2200\n",
       "94.0                     Trabalhadores de Limpeza Urbana                       1887\n",
       "114.0                    Outros                                                5152\n",
       "dtype: int64"
      ]
     },
     "execution_count": 43,
     "metadata": {},
     "output_type": "execute_result"
    }
   ],
   "source": [
    "vac_cat=data.groupby(['vacina_categoria_codigo', 'vacina_categoria_nome']).size()\n",
    "vac_cat"
   ]
  },
  {
   "cell_type": "code",
   "execution_count": 44,
   "id": "d83c3b40",
   "metadata": {},
   "outputs": [
    {
     "data": {
      "text/plain": [
       "2.0"
      ]
     },
     "execution_count": 44,
     "metadata": {},
     "output_type": "execute_result"
    }
   ],
   "source": [
    "moda_vac_cod=sns.mode(data['vacina_categoria_codigo'])\n",
    "moda_vac_cod"
   ]
  },
  {
   "cell_type": "code",
   "execution_count": 45,
   "id": "5becbfa2",
   "metadata": {},
   "outputs": [],
   "source": [
    "data['vacina_categoria_codigo'].fillna(moda_vac_cod, inplace=True)"
   ]
  },
  {
   "cell_type": "code",
   "execution_count": 46,
   "id": "11d7c0c4",
   "metadata": {},
   "outputs": [],
   "source": [
    "data['vacina_categoria_nome'].fillna('vacina_categoria_codigo', inplace=True)\n",
    "data.loc[data['vacina_categoria_codigo']==2.0, 'vacina_categoria_nome']='Faixa Etária'"
   ]
  },
  {
   "cell_type": "code",
   "execution_count": 47,
   "id": "36996663",
   "metadata": {},
   "outputs": [
    {
     "data": {
      "text/plain": [
       "document_id                                      0\n",
       "paciente_id                                      1\n",
       "paciente_idade                                   0\n",
       "paciente_dataNascimento                          1\n",
       "paciente_enumSexoBiologico                       0\n",
       "paciente_racaCor_codigo                          0\n",
       "paciente_racaCor_valor                           0\n",
       "paciente_endereco_coIbgeMunicipio                0\n",
       "paciente_endereco_coPais                         0\n",
       "paciente_endereco_nmMunicipio                    0\n",
       "paciente_endereco_nmPais                         0\n",
       "paciente_endereco_uf                             0\n",
       "paciente_endereco_cep                       259393\n",
       "paciente_nacionalidade_enumNacionalidade       876\n",
       "estabelecimento_valor                            0\n",
       "estabelecimento_razaoSocial                      0\n",
       "estalecimento_noFantasia                         0\n",
       "estabelecimento_municipio_codigo                 0\n",
       "estabelecimento_municipio_nome                   0\n",
       "estabelecimento_uf                               0\n",
       "vacina_grupoAtendimento_codigo                   0\n",
       "vacina_grupoAtendimento_nome                     0\n",
       "vacina_categoria_codigo                          0\n",
       "vacina_categoria_nome                            0\n",
       "vacina_lote                                      0\n",
       "vacina_fabricante_nome                           0\n",
       "vacina_fabricante_referencia                  1431\n",
       "vacina_dataAplicacao                             0\n",
       "vacina_descricao_dose                            0\n",
       "vacina_codigo                                    0\n",
       "vacina_nome                                      0\n",
       "sistema_origem                                   0\n",
       "dtype: int64"
      ]
     },
     "execution_count": 47,
     "metadata": {},
     "output_type": "execute_result"
    }
   ],
   "source": [
    "data.isnull().sum()"
   ]
  },
  {
   "cell_type": "code",
   "execution_count": 48,
   "id": "95e297bc",
   "metadata": {},
   "outputs": [
    {
     "data": {
      "text/plain": [
       "vacina_fabricante_nome\n",
       "ASTRAZENECA                40819\n",
       "ASTRAZENECA/FIOCRUZ       455843\n",
       "JANSSEN                    27368\n",
       "PFIZER                    774934\n",
       "Pendente Identificação      4481\n",
       "SINOVAC/BUTANTAN          342542\n",
       "dtype: int64"
      ]
     },
     "execution_count": 48,
     "metadata": {},
     "output_type": "execute_result"
    }
   ],
   "source": [
    "agrup_vac_nome=data.groupby(['vacina_fabricante_nome']).size()\n",
    "agrup_vac_nome"
   ]
  },
  {
   "cell_type": "code",
   "execution_count": 49,
   "id": "91c09d71",
   "metadata": {},
   "outputs": [
    {
     "data": {
      "text/plain": [
       "vacina_fabricante_referencia  vacina_fabricante_nome\n",
       "Organization/00394544000851   ASTRAZENECA                40779\n",
       "                              JANSSEN                    19283\n",
       "                              PFIZER                    624540\n",
       "Organization/149              ASTRAZENECA/FIOCRUZ         6864\n",
       "Organization/152              SINOVAC/BUTANTAN           14638\n",
       "Organization/28290            PFIZER                    149968\n",
       "                              Pendente Identificação      4481\n",
       "Organization/29909            ASTRAZENECA                   40\n",
       "Organization/30587            JANSSEN                     7965\n",
       "Organization/33781055000135   ASTRAZENECA/FIOCRUZ       448444\n",
       "                              SINOVAC/BUTANTAN              11\n",
       "Organization/61189445000156   SINOVAC/BUTANTAN          327543\n",
       "dtype: int64"
      ]
     },
     "execution_count": 49,
     "metadata": {},
     "output_type": "execute_result"
    }
   ],
   "source": [
    "agrup_vac_ref=data.groupby(['vacina_fabricante_referencia', 'vacina_fabricante_nome']).size()\n",
    "agrup_vac_ref"
   ]
  },
  {
   "cell_type": "code",
   "execution_count": 50,
   "id": "678c653d",
   "metadata": {},
   "outputs": [],
   "source": [
    "data.loc[data['vacina_fabricante_nome']=='Pendente Identificação', 'vacina_fabricante_nome']='PFIZER'"
   ]
  },
  {
   "cell_type": "code",
   "execution_count": 51,
   "id": "37799356",
   "metadata": {},
   "outputs": [],
   "source": [
    "# Cruzei os dados NA da col 'vacina_fabricante_referencia' com a col 'vacina_fabricante_nome'\n",
    "data['vacina_fabricante_referencia'].fillna('vacina_fabricante_nome', inplace=True)"
   ]
  },
  {
   "cell_type": "code",
   "execution_count": 52,
   "id": "6acb4d82",
   "metadata": {},
   "outputs": [
    {
     "data": {
      "text/plain": [
       "vacina_fabricante_nome\n",
       "ASTRAZENECA             40819\n",
       "ASTRAZENECA/FIOCRUZ    455843\n",
       "JANSSEN                 27368\n",
       "PFIZER                 779415\n",
       "SINOVAC/BUTANTAN       342542\n",
       "dtype: int64"
      ]
     },
     "execution_count": 52,
     "metadata": {},
     "output_type": "execute_result"
    }
   ],
   "source": [
    "agrup_vac_nome=data.groupby(['vacina_fabricante_nome']).size()\n",
    "agrup_vac_nome"
   ]
  },
  {
   "cell_type": "code",
   "execution_count": 53,
   "id": "20a4320d",
   "metadata": {},
   "outputs": [
    {
     "data": {
      "text/plain": [
       "vacina_fabricante_referencia  vacina_fabricante_nome\n",
       "Organization/00394544000851   ASTRAZENECA                40779\n",
       "                              JANSSEN                    19283\n",
       "                              PFIZER                    624540\n",
       "Organization/149              ASTRAZENECA/FIOCRUZ         6864\n",
       "Organization/152              SINOVAC/BUTANTAN           14638\n",
       "Organization/28290            PFIZER                    154449\n",
       "Organization/29909            ASTRAZENECA                   40\n",
       "Organization/30587            JANSSEN                     7965\n",
       "Organization/33781055000135   ASTRAZENECA/FIOCRUZ       448444\n",
       "                              SINOVAC/BUTANTAN              11\n",
       "Organization/61189445000156   SINOVAC/BUTANTAN          327543\n",
       "vacina_fabricante_nome        ASTRAZENECA/FIOCRUZ          535\n",
       "                              JANSSEN                      120\n",
       "                              PFIZER                       426\n",
       "                              SINOVAC/BUTANTAN             350\n",
       "dtype: int64"
      ]
     },
     "execution_count": 53,
     "metadata": {},
     "output_type": "execute_result"
    }
   ],
   "source": [
    "agrup_vac_ref2=data.groupby(['vacina_fabricante_referencia', 'vacina_fabricante_nome']).size()\n",
    "agrup_vac_ref2"
   ]
  },
  {
   "cell_type": "code",
   "execution_count": 54,
   "id": "4dbe0609",
   "metadata": {},
   "outputs": [],
   "source": [
    "#Selecionei as duas colunas ['vacina_fabricante_referencia'; 'vacina_fabricante_nome']\n",
    "#Substituí as linhas onde a referência estava constando \"vacina_fabricante_referencia\"\n",
    "# pela moda da referência, de acordo com cada nome de vacina. \n",
    "data.loc[(data['vacina_fabricante_referencia']=='vacina_fabricante_nome') & (data['vacina_fabricante_nome']=='PFIZER'), 'vacina_fabricante_referencia']='Organization/00394544000851'\n",
    "data.loc[(data['vacina_fabricante_referencia']=='vacina_fabricante_nome') & (data['vacina_fabricante_nome']=='ASTRAZENECA/FIOCRUZ'), 'vacina_fabricante_referencia']='Organization/33781055000135'\n",
    "data.loc[(data['vacina_fabricante_referencia']=='vacina_fabricante_nome') & (data['vacina_fabricante_nome']=='JANSSEN'), 'vacina_fabricante_referencia']='Organization/30587'\n",
    "data.loc[(data['vacina_fabricante_referencia']=='vacina_fabricante_nome') & (data['vacina_fabricante_nome']=='SINOVAC/BUTANTAN'), 'vacina_fabricante_referencia']='Organization/61189445000156'"
   ]
  },
  {
   "cell_type": "code",
   "execution_count": 55,
   "id": "04059f58",
   "metadata": {},
   "outputs": [
    {
     "data": {
      "text/plain": [
       "vacina_fabricante_referencia  vacina_fabricante_nome\n",
       "Organization/00394544000851   ASTRAZENECA                40779\n",
       "                              JANSSEN                    19283\n",
       "                              PFIZER                    624966\n",
       "Organization/149              ASTRAZENECA/FIOCRUZ         6864\n",
       "Organization/152              SINOVAC/BUTANTAN           14638\n",
       "Organization/28290            PFIZER                    154449\n",
       "Organization/29909            ASTRAZENECA                   40\n",
       "Organization/30587            JANSSEN                     8085\n",
       "Organization/33781055000135   ASTRAZENECA/FIOCRUZ       448979\n",
       "                              SINOVAC/BUTANTAN              11\n",
       "Organization/61189445000156   SINOVAC/BUTANTAN          327893\n",
       "dtype: int64"
      ]
     },
     "execution_count": 55,
     "metadata": {},
     "output_type": "execute_result"
    }
   ],
   "source": [
    "agrup_vac_ref3=data.groupby(['vacina_fabricante_referencia', 'vacina_fabricante_nome']).size()\n",
    "agrup_vac_ref3"
   ]
  },
  {
   "cell_type": "code",
   "execution_count": 56,
   "id": "44caca36",
   "metadata": {},
   "outputs": [
    {
     "data": {
      "text/plain": [
       "document_id                                      0\n",
       "paciente_id                                      1\n",
       "paciente_idade                                   0\n",
       "paciente_dataNascimento                          1\n",
       "paciente_enumSexoBiologico                       0\n",
       "paciente_racaCor_codigo                          0\n",
       "paciente_racaCor_valor                           0\n",
       "paciente_endereco_coIbgeMunicipio                0\n",
       "paciente_endereco_coPais                         0\n",
       "paciente_endereco_nmMunicipio                    0\n",
       "paciente_endereco_nmPais                         0\n",
       "paciente_endereco_uf                             0\n",
       "paciente_endereco_cep                       259393\n",
       "paciente_nacionalidade_enumNacionalidade       876\n",
       "estabelecimento_valor                            0\n",
       "estabelecimento_razaoSocial                      0\n",
       "estalecimento_noFantasia                         0\n",
       "estabelecimento_municipio_codigo                 0\n",
       "estabelecimento_municipio_nome                   0\n",
       "estabelecimento_uf                               0\n",
       "vacina_grupoAtendimento_codigo                   0\n",
       "vacina_grupoAtendimento_nome                     0\n",
       "vacina_categoria_codigo                          0\n",
       "vacina_categoria_nome                            0\n",
       "vacina_lote                                      0\n",
       "vacina_fabricante_nome                           0\n",
       "vacina_fabricante_referencia                     0\n",
       "vacina_dataAplicacao                             0\n",
       "vacina_descricao_dose                            0\n",
       "vacina_codigo                                    0\n",
       "vacina_nome                                      0\n",
       "sistema_origem                                   0\n",
       "dtype: int64"
      ]
     },
     "execution_count": 56,
     "metadata": {},
     "output_type": "execute_result"
    }
   ],
   "source": [
    "data.isnull().sum()"
   ]
  },
  {
   "cell_type": "code",
   "execution_count": 57,
   "id": "592032e0",
   "metadata": {},
   "outputs": [
    {
     "data": {
      "text/plain": [
       "paciente_nacionalidade_enumNacionalidade  paciente_endereco_nmPais         \n",
       "B                                         ANDORRA                                    1\n",
       "                                          BRASIL                               1637107\n",
       "                                          CONGO, REPUBLICA DO (BRAZZAVILLE)          1\n",
       "                                          GUINE EQUATORIAL                           1\n",
       "                                          JAPAO                                      1\n",
       "                                          PARAGUAI                                   1\n",
       "                                          RUANDA                                     2\n",
       "E                                         BRASIL                                  7908\n",
       "                                          PORTUGAL                                   1\n",
       "                                          SAO TOME E PRINCIPE                        2\n",
       "                                          TIMOR LESTE                                1\n",
       "                                          VENEZUELA                                  2\n",
       "N                                         BRASIL                                    58\n",
       "None                                      BRASIL                                    25\n",
       "dtype: int64"
      ]
     },
     "execution_count": 57,
     "metadata": {},
     "output_type": "execute_result"
    }
   ],
   "source": [
    "agrup_nac=data.groupby(['paciente_nacionalidade_enumNacionalidade', 'paciente_endereco_nmPais']).size()\n",
    "agrup_nac"
   ]
  },
  {
   "cell_type": "code",
   "execution_count": 58,
   "id": "cb328619",
   "metadata": {},
   "outputs": [],
   "source": [
    "data['paciente_nacionalidade_enumNacionalidade'].fillna('paciente_endereco_nmPais', inplace=True)"
   ]
  },
  {
   "cell_type": "code",
   "execution_count": 59,
   "id": "134e50b3",
   "metadata": {},
   "outputs": [],
   "source": [
    "data.loc[(data['paciente_nacionalidade_enumNacionalidade']=='paciente_endereco_nmPais') & (data['paciente_endereco_nmPais']=='BRASIL'), 'paciente_nacionalidade_enumNacionalidade']='B'\n",
    "data.loc[(data['paciente_nacionalidade_enumNacionalidade']=='paciente_endereco_nmPais') & (data['paciente_endereco_nmPais']!='BRASIL'), 'paciente_nacionalidade_enumNacionalidade']='E'"
   ]
  },
  {
   "cell_type": "code",
   "execution_count": 60,
   "id": "2e057b48",
   "metadata": {},
   "outputs": [
    {
     "data": {
      "text/plain": [
       "paciente_nacionalidade_enumNacionalidade  paciente_endereco_nmPais         \n",
       "B                                         ANDORRA                                    1\n",
       "                                          BRASIL                               1637983\n",
       "                                          CONGO, REPUBLICA DO (BRAZZAVILLE)          1\n",
       "                                          GUINE EQUATORIAL                           1\n",
       "                                          JAPAO                                      1\n",
       "                                          PARAGUAI                                   1\n",
       "                                          RUANDA                                     2\n",
       "E                                         BRASIL                                  7908\n",
       "                                          PORTUGAL                                   1\n",
       "                                          SAO TOME E PRINCIPE                        2\n",
       "                                          TIMOR LESTE                                1\n",
       "                                          VENEZUELA                                  2\n",
       "N                                         BRASIL                                    58\n",
       "None                                      BRASIL                                    25\n",
       "dtype: int64"
      ]
     },
     "execution_count": 60,
     "metadata": {},
     "output_type": "execute_result"
    }
   ],
   "source": [
    "agrup_nac3=data.groupby(['paciente_nacionalidade_enumNacionalidade', 'paciente_endereco_nmPais']).size()\n",
    "agrup_nac3"
   ]
  },
  {
   "cell_type": "code",
   "execution_count": 61,
   "id": "7f642b11",
   "metadata": {},
   "outputs": [],
   "source": [
    "#Transformei na col 'paciente_endereco_nmPais' a string 'None' em BRASIL\n",
    "data.loc[data['paciente_endereco_nmPais']=='None', 'paciente_endereco_nmPais']='BRASIL'"
   ]
  },
  {
   "cell_type": "code",
   "execution_count": 62,
   "id": "6d5f3066",
   "metadata": {},
   "outputs": [],
   "source": [
    "#Teste para saber se pode atribuir os NA em 'paciente_nacionalidade_enumNacionalidade'\n",
    "# a B (Brasileiro)\n",
    "data['paciente_nacionalidade_enumNacionalidade'].fillna('teste', inplace=True)"
   ]
  },
  {
   "cell_type": "code",
   "execution_count": 63,
   "id": "4944cda5",
   "metadata": {},
   "outputs": [
    {
     "data": {
      "text/plain": [
       "paciente_nacionalidade_enumNacionalidade  paciente_endereco_nmPais         \n",
       "B                                         ANDORRA                                    1\n",
       "                                          BRASIL                               1637983\n",
       "                                          CONGO, REPUBLICA DO (BRAZZAVILLE)          1\n",
       "                                          GUINE EQUATORIAL                           1\n",
       "                                          JAPAO                                      1\n",
       "                                          PARAGUAI                                   1\n",
       "                                          RUANDA                                     2\n",
       "E                                         BRASIL                                  7908\n",
       "                                          PORTUGAL                                   1\n",
       "                                          SAO TOME E PRINCIPE                        2\n",
       "                                          TIMOR LESTE                                1\n",
       "                                          VENEZUELA                                  2\n",
       "N                                         BRASIL                                    58\n",
       "None                                      BRASIL                                    25\n",
       "dtype: int64"
      ]
     },
     "execution_count": 63,
     "metadata": {},
     "output_type": "execute_result"
    }
   ],
   "source": [
    "agrup_nac4=data.groupby(['paciente_nacionalidade_enumNacionalidade', 'paciente_endereco_nmPais']).size()\n",
    "agrup_nac4"
   ]
  },
  {
   "cell_type": "code",
   "execution_count": 64,
   "id": "6b15898f",
   "metadata": {},
   "outputs": [],
   "source": [
    "#Transformei na col 'paciente_nacionalidade_enumNacionalidade' a string 'None' em B\n",
    "# OBS: Fiz isso após observação preliminar dos dados.\n",
    "data.loc[data['paciente_nacionalidade_enumNacionalidade'].isin(['None','teste']), 'paciente_nacionalidade_enumNacionalidade']='B'"
   ]
  },
  {
   "cell_type": "code",
   "execution_count": 65,
   "id": "6aa7a0d1",
   "metadata": {},
   "outputs": [
    {
     "data": {
      "text/plain": [
       "paciente_nacionalidade_enumNacionalidade  paciente_endereco_nmPais         \n",
       "B                                         ANDORRA                                    1\n",
       "                                          BRASIL                               1638008\n",
       "                                          CONGO, REPUBLICA DO (BRAZZAVILLE)          1\n",
       "                                          GUINE EQUATORIAL                           1\n",
       "                                          JAPAO                                      1\n",
       "                                          PARAGUAI                                   1\n",
       "                                          RUANDA                                     2\n",
       "E                                         BRASIL                                  7908\n",
       "                                          PORTUGAL                                   1\n",
       "                                          SAO TOME E PRINCIPE                        2\n",
       "                                          TIMOR LESTE                                1\n",
       "                                          VENEZUELA                                  2\n",
       "N                                         BRASIL                                    58\n",
       "dtype: int64"
      ]
     },
     "execution_count": 65,
     "metadata": {},
     "output_type": "execute_result"
    }
   ],
   "source": [
    "agrup_nac5=data.groupby(['paciente_nacionalidade_enumNacionalidade', 'paciente_endereco_nmPais']).size()\n",
    "agrup_nac5"
   ]
  },
  {
   "cell_type": "code",
   "execution_count": 66,
   "id": "1304a58d",
   "metadata": {},
   "outputs": [
    {
     "data": {
      "text/plain": [
       "document_id                                      0\n",
       "paciente_id                                      1\n",
       "paciente_idade                                   0\n",
       "paciente_dataNascimento                          1\n",
       "paciente_enumSexoBiologico                       0\n",
       "paciente_racaCor_codigo                          0\n",
       "paciente_racaCor_valor                           0\n",
       "paciente_endereco_coIbgeMunicipio                0\n",
       "paciente_endereco_coPais                         0\n",
       "paciente_endereco_nmMunicipio                    0\n",
       "paciente_endereco_nmPais                         0\n",
       "paciente_endereco_uf                             0\n",
       "paciente_endereco_cep                       259393\n",
       "paciente_nacionalidade_enumNacionalidade         0\n",
       "estabelecimento_valor                            0\n",
       "estabelecimento_razaoSocial                      0\n",
       "estalecimento_noFantasia                         0\n",
       "estabelecimento_municipio_codigo                 0\n",
       "estabelecimento_municipio_nome                   0\n",
       "estabelecimento_uf                               0\n",
       "vacina_grupoAtendimento_codigo                   0\n",
       "vacina_grupoAtendimento_nome                     0\n",
       "vacina_categoria_codigo                          0\n",
       "vacina_categoria_nome                            0\n",
       "vacina_lote                                      0\n",
       "vacina_fabricante_nome                           0\n",
       "vacina_fabricante_referencia                     0\n",
       "vacina_dataAplicacao                             0\n",
       "vacina_descricao_dose                            0\n",
       "vacina_codigo                                    0\n",
       "vacina_nome                                      0\n",
       "sistema_origem                                   0\n",
       "dtype: int64"
      ]
     },
     "execution_count": 66,
     "metadata": {},
     "output_type": "execute_result"
    }
   ],
   "source": [
    "data.isnull().sum()"
   ]
  },
  {
   "cell_type": "code",
   "execution_count": 67,
   "id": "c6db6fb0",
   "metadata": {},
   "outputs": [
    {
     "data": {
      "text/plain": [
       "estabelecimento_valor  estabelecimento_razaoSocial                   estalecimento_noFantasia            \n",
       "10456                  HOSPITAL DE BASE DO DISTRITO FEDERAL          HOSPITAL DE BASE DO DISTRITO FEDERAL     2549\n",
       "10464                  DISTRITO FEDERAL SECRETARIA DE SAUDE          HRAN                                     2217\n",
       "10472                  FUNDACAO HOSPITALAR DO DISTRITO FEDERAL       HRG                                      2003\n",
       "10480                  HOSPITAL REGIONAL DE CEILANDIA                HOSPITAL REGIONAL DE CEILANDIA           2703\n",
       "10499                  HOSPITAL REGIONAL DE TAGUATINGA               HRT HOSPITAL REGIONAL DE TAGUATINGA      2121\n",
       "                                                                                                             ...  \n",
       "9543945                CENTRO DE SAUDE 11 RECANTO DAS EMAS           UBS 11 RECANTO DAS EMAS                    54\n",
       "9572481                UBS 3 ITAPOA                                  UBS 3 ITAPOA                             7705\n",
       "9572511                UBS 3 PARANOA PARQUE                          UBS 3 PARANOA PARQUE                    15729\n",
       "9578277                GERENCIA DE SERVICOS DE ATENCAO SECUNDARIA 3  POLICLINICA LAGO SUL                    10497\n",
       "9768637                UNIDADE BASICA DE SAUDE N 20 PLANALTINA       UBS 20 PLANALTINA                       27725\n",
       "Length: 152, dtype: int64"
      ]
     },
     "execution_count": 67,
     "metadata": {},
     "output_type": "execute_result"
    }
   ],
   "source": [
    "Estabel=data.groupby(['estabelecimento_valor', 'estabelecimento_razaoSocial', 'estalecimento_noFantasia']).size()\n",
    "Estabel"
   ]
  },
  {
   "cell_type": "code",
   "execution_count": 68,
   "id": "9b6050ef",
   "metadata": {},
   "outputs": [
    {
     "data": {
      "text/plain": [
       "vacina_grupoAtendimento_codigo  vacina_grupoAtendimento_nome                                \n",
       "0                               Sem registro no modelo de informação de origem                    678\n",
       "101                             Hemoglobinopatia grave                                            618\n",
       "102                             Neoplasias                                                        989\n",
       "103                             Diabetes Mellitus                                               34234\n",
       "104                             Pneumopatias Crônicas Graves                                     9837\n",
       "                                                                                                ...  \n",
       "1601                            Trabalhadores Industriais                                         847\n",
       "1701                            Trabalhadores de limpeza urbana e manejo de resíduos sólidos     1887\n",
       "1801                            Gestante                                                         8345\n",
       "1901                            Puérpera                                                         2200\n",
       "999999                          Outros Grupos                                                    5152\n",
       "Length: 90, dtype: int64"
      ]
     },
     "execution_count": 68,
     "metadata": {},
     "output_type": "execute_result"
    }
   ],
   "source": [
    "vac1=data.groupby(['vacina_grupoAtendimento_codigo', 'vacina_grupoAtendimento_nome']).size()\n",
    "vac1"
   ]
  },
  {
   "cell_type": "code",
   "execution_count": 69,
   "id": "e7ef6931",
   "metadata": {},
   "outputs": [
    {
     "data": {
      "text/plain": [
       "vacina_codigo  vacina_nome                              \n",
       "85             COVID-19 ASTRAZENECA/FIOCRUZ - COVISHIELD    455843\n",
       "86             COVID-19 SINOVAC/BUTANTAN - CORONAVAC        342542\n",
       "87             COVID-19 PFIZER - COMIRNATY                  774934\n",
       "88             COVID-19 JANSSEN - Ad26.COV2.S                27368\n",
       "89             COVID-19 ASTRAZENECA - ChAdOx1-S              40819\n",
       "99             COVID-19 PEDIÁTRICA - PFIZER COMIRNATY         4481\n",
       "dtype: int64"
      ]
     },
     "execution_count": 69,
     "metadata": {},
     "output_type": "execute_result"
    }
   ],
   "source": [
    "vac2=data.groupby(['vacina_codigo', 'vacina_nome']).size()\n",
    "vac2"
   ]
  },
  {
   "cell_type": "code",
   "execution_count": 70,
   "id": "51a896dc",
   "metadata": {},
   "outputs": [
    {
     "data": {
      "text/plain": [
       "vacina_descricao_dose\n",
       "1ª Dose                772437\n",
       "1ª Dose Revacinação        11\n",
       "2ª Dose                667191\n",
       "2ª Dose Revacinação        27\n",
       "3ª Dose                    27\n",
       "3ª Dose Revacinação         1\n",
       "Dose                    19465\n",
       "Dose Adicional           9334\n",
       "Reforço                177494\n",
       "dtype: int64"
      ]
     },
     "execution_count": 70,
     "metadata": {},
     "output_type": "execute_result"
    }
   ],
   "source": [
    "dose=data.groupby(['vacina_descricao_dose']).size()\n",
    "dose"
   ]
  },
  {
   "cell_type": "code",
   "execution_count": 71,
   "id": "c1960eb7",
   "metadata": {},
   "outputs": [
    {
     "data": {
      "text/html": [
       "<div>\n",
       "<style scoped>\n",
       "    .dataframe tbody tr th:only-of-type {\n",
       "        vertical-align: middle;\n",
       "    }\n",
       "\n",
       "    .dataframe tbody tr th {\n",
       "        vertical-align: top;\n",
       "    }\n",
       "\n",
       "    .dataframe thead th {\n",
       "        text-align: right;\n",
       "    }\n",
       "</style>\n",
       "<table border=\"1\" class=\"dataframe\">\n",
       "  <thead>\n",
       "    <tr style=\"text-align: right;\">\n",
       "      <th></th>\n",
       "      <th>document_id</th>\n",
       "      <th>paciente_id</th>\n",
       "      <th>paciente_idade</th>\n",
       "      <th>paciente_dataNascimento</th>\n",
       "      <th>paciente_enumSexoBiologico</th>\n",
       "      <th>paciente_racaCor_codigo</th>\n",
       "      <th>paciente_racaCor_valor</th>\n",
       "      <th>paciente_endereco_coIbgeMunicipio</th>\n",
       "      <th>paciente_endereco_coPais</th>\n",
       "      <th>paciente_endereco_nmMunicipio</th>\n",
       "      <th>...</th>\n",
       "      <th>vacina_categoria_codigo</th>\n",
       "      <th>vacina_categoria_nome</th>\n",
       "      <th>vacina_lote</th>\n",
       "      <th>vacina_fabricante_nome</th>\n",
       "      <th>vacina_fabricante_referencia</th>\n",
       "      <th>vacina_dataAplicacao</th>\n",
       "      <th>vacina_descricao_dose</th>\n",
       "      <th>vacina_codigo</th>\n",
       "      <th>vacina_nome</th>\n",
       "      <th>sistema_origem</th>\n",
       "    </tr>\n",
       "  </thead>\n",
       "  <tbody>\n",
       "    <tr>\n",
       "      <th>0</th>\n",
       "      <td>a3b9c8fd-e7e2-41ba-80fb-3a8596afcbc8-i0b0</td>\n",
       "      <td>c804ff943bec558ae80ffe5e6c1599d203aec37b154a70...</td>\n",
       "      <td>45.0</td>\n",
       "      <td>1976-02-28</td>\n",
       "      <td>F</td>\n",
       "      <td>99.0</td>\n",
       "      <td>SEM INFORMACAO</td>\n",
       "      <td>350320.0</td>\n",
       "      <td>10.0</td>\n",
       "      <td>ARARAQUARA</td>\n",
       "      <td>...</td>\n",
       "      <td>2.0</td>\n",
       "      <td>Faixa Etária</td>\n",
       "      <td>218VCD256W</td>\n",
       "      <td>ASTRAZENECA/FIOCRUZ</td>\n",
       "      <td>Organization/33781055000135</td>\n",
       "      <td>2021-10-02</td>\n",
       "      <td>2ª Dose</td>\n",
       "      <td>85</td>\n",
       "      <td>COVID-19 ASTRAZENECA/FIOCRUZ - COVISHIELD</td>\n",
       "      <td>Novo PNI</td>\n",
       "    </tr>\n",
       "    <tr>\n",
       "      <th>1</th>\n",
       "      <td>8e4ae0f4-32ae-4295-b5e6-31394a991570-i0b0</td>\n",
       "      <td>8fc7f163d8276fb6b5e7da9b27212fbbff1f7fb31ff62e...</td>\n",
       "      <td>21.0</td>\n",
       "      <td>2000-07-17</td>\n",
       "      <td>F</td>\n",
       "      <td>3.0</td>\n",
       "      <td>PARDA</td>\n",
       "      <td>530010.0</td>\n",
       "      <td>10.0</td>\n",
       "      <td>BRASILIA</td>\n",
       "      <td>...</td>\n",
       "      <td>2.0</td>\n",
       "      <td>Faixa Etária</td>\n",
       "      <td>FE3591</td>\n",
       "      <td>PFIZER</td>\n",
       "      <td>Organization/00394544000851</td>\n",
       "      <td>2021-08-12</td>\n",
       "      <td>1ª Dose</td>\n",
       "      <td>87</td>\n",
       "      <td>COVID-19 PFIZER - COMIRNATY</td>\n",
       "      <td>Novo PNI</td>\n",
       "    </tr>\n",
       "    <tr>\n",
       "      <th>2</th>\n",
       "      <td>a3ecb141-5ed8-4683-81a8-5935cd428501-i0b0</td>\n",
       "      <td>9edf32bb763f6903c05a89f5fab471ba81f889469bba73...</td>\n",
       "      <td>48.0</td>\n",
       "      <td>1972-08-04</td>\n",
       "      <td>M</td>\n",
       "      <td>99.0</td>\n",
       "      <td>SEM INFORMACAO</td>\n",
       "      <td>530010.0</td>\n",
       "      <td>10.0</td>\n",
       "      <td>BRASILIA</td>\n",
       "      <td>...</td>\n",
       "      <td>2.0</td>\n",
       "      <td>Faixa Etária</td>\n",
       "      <td>FA9095</td>\n",
       "      <td>PFIZER</td>\n",
       "      <td>Organization/00394544000851</td>\n",
       "      <td>2021-07-08</td>\n",
       "      <td>1ª Dose</td>\n",
       "      <td>87</td>\n",
       "      <td>COVID-19 PFIZER - COMIRNATY</td>\n",
       "      <td>Novo PNI</td>\n",
       "    </tr>\n",
       "    <tr>\n",
       "      <th>3</th>\n",
       "      <td>8e6427c0-9c08-480b-a3d9-ba0e74504a58-i0b0</td>\n",
       "      <td>c6a0d768ce158492f06085057d1431708d9321fc7ea361...</td>\n",
       "      <td>31.0</td>\n",
       "      <td>1990-01-05</td>\n",
       "      <td>F</td>\n",
       "      <td>1.0</td>\n",
       "      <td>BRANCA</td>\n",
       "      <td>260790.0</td>\n",
       "      <td>10.0</td>\n",
       "      <td>JABOATAO DOS GUARARAPES</td>\n",
       "      <td>...</td>\n",
       "      <td>2.0</td>\n",
       "      <td>Faixa Etária</td>\n",
       "      <td>FH8023</td>\n",
       "      <td>PFIZER</td>\n",
       "      <td>Organization/00394544000851</td>\n",
       "      <td>2021-10-13</td>\n",
       "      <td>2ª Dose</td>\n",
       "      <td>87</td>\n",
       "      <td>COVID-19 PFIZER - COMIRNATY</td>\n",
       "      <td>Novo PNI</td>\n",
       "    </tr>\n",
       "    <tr>\n",
       "      <th>4</th>\n",
       "      <td>a3f51e64-5581-4355-95d0-bc3dbf6f6417-i0b0</td>\n",
       "      <td>5243fb38cfdb567cd982d8b73d99ae77bc6b0612a1eb47...</td>\n",
       "      <td>41.0</td>\n",
       "      <td>1980-03-18</td>\n",
       "      <td>F</td>\n",
       "      <td>99.0</td>\n",
       "      <td>SEM INFORMACAO</td>\n",
       "      <td>290320.0</td>\n",
       "      <td>10.0</td>\n",
       "      <td>BARREIRAS</td>\n",
       "      <td>...</td>\n",
       "      <td>2.0</td>\n",
       "      <td>Faixa Etária</td>\n",
       "      <td>216VCD177Z</td>\n",
       "      <td>ASTRAZENECA/FIOCRUZ</td>\n",
       "      <td>Organization/33781055000135</td>\n",
       "      <td>2021-07-24</td>\n",
       "      <td>1ª Dose</td>\n",
       "      <td>85</td>\n",
       "      <td>COVID-19 ASTRAZENECA/FIOCRUZ - COVISHIELD</td>\n",
       "      <td>Novo PNI</td>\n",
       "    </tr>\n",
       "    <tr>\n",
       "      <th>...</th>\n",
       "      <td>...</td>\n",
       "      <td>...</td>\n",
       "      <td>...</td>\n",
       "      <td>...</td>\n",
       "      <td>...</td>\n",
       "      <td>...</td>\n",
       "      <td>...</td>\n",
       "      <td>...</td>\n",
       "      <td>...</td>\n",
       "      <td>...</td>\n",
       "      <td>...</td>\n",
       "      <td>...</td>\n",
       "      <td>...</td>\n",
       "      <td>...</td>\n",
       "      <td>...</td>\n",
       "      <td>...</td>\n",
       "      <td>...</td>\n",
       "      <td>...</td>\n",
       "      <td>...</td>\n",
       "      <td>...</td>\n",
       "      <td>...</td>\n",
       "    </tr>\n",
       "    <tr>\n",
       "      <th>1647329</th>\n",
       "      <td>15904d6a-660b-467e-8f96-f6950d940b76-i0b0</td>\n",
       "      <td>db556d3504994c3c9b13b75c56f3b72047a719bbeaa52a...</td>\n",
       "      <td>27.0</td>\n",
       "      <td>1993-10-09</td>\n",
       "      <td>M</td>\n",
       "      <td>99.0</td>\n",
       "      <td>SEM INFORMACAO</td>\n",
       "      <td>530010.0</td>\n",
       "      <td>10.0</td>\n",
       "      <td>BRASILIA</td>\n",
       "      <td>...</td>\n",
       "      <td>1.0</td>\n",
       "      <td>Comorbidades</td>\n",
       "      <td>216VCD177Z</td>\n",
       "      <td>ASTRAZENECA/FIOCRUZ</td>\n",
       "      <td>Organization/33781055000135</td>\n",
       "      <td>2021-07-27</td>\n",
       "      <td>2ª Dose</td>\n",
       "      <td>85</td>\n",
       "      <td>COVID-19 ASTRAZENECA/FIOCRUZ - COVISHIELD</td>\n",
       "      <td>Novo PNI</td>\n",
       "    </tr>\n",
       "    <tr>\n",
       "      <th>1647330</th>\n",
       "      <td>15928b7b-3c64-4464-b209-1b15cf6a9a70-i0b0</td>\n",
       "      <td>ce2b7c5599cd6008fa5e30f640fc91c6536435c386b6b9...</td>\n",
       "      <td>64.0</td>\n",
       "      <td>1956-11-19</td>\n",
       "      <td>F</td>\n",
       "      <td>99.0</td>\n",
       "      <td>SEM INFORMACAO</td>\n",
       "      <td>530010.0</td>\n",
       "      <td>10.0</td>\n",
       "      <td>BRASILIA</td>\n",
       "      <td>...</td>\n",
       "      <td>2.0</td>\n",
       "      <td>Faixa Etária</td>\n",
       "      <td>213VCD004ZVA</td>\n",
       "      <td>ASTRAZENECA/FIOCRUZ</td>\n",
       "      <td>Organization/33781055000135</td>\n",
       "      <td>2021-04-16</td>\n",
       "      <td>1ª Dose</td>\n",
       "      <td>85</td>\n",
       "      <td>COVID-19 ASTRAZENECA/FIOCRUZ - COVISHIELD</td>\n",
       "      <td>Novo PNI</td>\n",
       "    </tr>\n",
       "    <tr>\n",
       "      <th>1647331</th>\n",
       "      <td>15996be6-bff8-4973-8c48-4dcc63545f0a-i0b0</td>\n",
       "      <td>051200093242db3b14e2ba8bfd4a6ac2efa466283df47c...</td>\n",
       "      <td>18.0</td>\n",
       "      <td>2002-08-31</td>\n",
       "      <td>F</td>\n",
       "      <td>3.0</td>\n",
       "      <td>PARDA</td>\n",
       "      <td>530010.0</td>\n",
       "      <td>10.0</td>\n",
       "      <td>BRASILIA</td>\n",
       "      <td>...</td>\n",
       "      <td>9.0</td>\n",
       "      <td>Trabalhadores de Saúde</td>\n",
       "      <td>214VCD064Z</td>\n",
       "      <td>ASTRAZENECA/FIOCRUZ</td>\n",
       "      <td>Organization/33781055000135</td>\n",
       "      <td>2021-05-13</td>\n",
       "      <td>1ª Dose</td>\n",
       "      <td>85</td>\n",
       "      <td>COVID-19 ASTRAZENECA/FIOCRUZ - COVISHIELD</td>\n",
       "      <td>Novo PNI</td>\n",
       "    </tr>\n",
       "    <tr>\n",
       "      <th>1647332</th>\n",
       "      <td>15a305c2-5533-431b-98f2-6afd6c2b85ce-i0b0</td>\n",
       "      <td>b225048f46698d53783808d16aa9247b6d7f081758ccd2...</td>\n",
       "      <td>41.0</td>\n",
       "      <td>1980-04-09</td>\n",
       "      <td>M</td>\n",
       "      <td>4.0</td>\n",
       "      <td>AMARELA</td>\n",
       "      <td>530010.0</td>\n",
       "      <td>10.0</td>\n",
       "      <td>BRASILIA</td>\n",
       "      <td>...</td>\n",
       "      <td>2.0</td>\n",
       "      <td>Faixa Etária</td>\n",
       "      <td>216VCD195Z</td>\n",
       "      <td>ASTRAZENECA/FIOCRUZ</td>\n",
       "      <td>Organization/33781055000135</td>\n",
       "      <td>2021-07-23</td>\n",
       "      <td>1ª Dose</td>\n",
       "      <td>85</td>\n",
       "      <td>COVID-19 ASTRAZENECA/FIOCRUZ - COVISHIELD</td>\n",
       "      <td>Novo PNI</td>\n",
       "    </tr>\n",
       "    <tr>\n",
       "      <th>1647333</th>\n",
       "      <td>15a85717-ebef-401b-a442-5b4cd51519b6-i0b0</td>\n",
       "      <td>6932963eb4e2b4d46cb40ed2638c14555ec65504457523...</td>\n",
       "      <td>17.0</td>\n",
       "      <td>2004-08-26</td>\n",
       "      <td>M</td>\n",
       "      <td>1.0</td>\n",
       "      <td>BRANCA</td>\n",
       "      <td>330455.0</td>\n",
       "      <td>10.0</td>\n",
       "      <td>RIO DE JANEIRO</td>\n",
       "      <td>...</td>\n",
       "      <td>2.0</td>\n",
       "      <td>Faixa Etária</td>\n",
       "      <td>FM3809</td>\n",
       "      <td>PFIZER</td>\n",
       "      <td>Organization/00394544000851</td>\n",
       "      <td>2021-11-25</td>\n",
       "      <td>2ª Dose</td>\n",
       "      <td>87</td>\n",
       "      <td>COVID-19 PFIZER - COMIRNATY</td>\n",
       "      <td>Novo PNI</td>\n",
       "    </tr>\n",
       "  </tbody>\n",
       "</table>\n",
       "<p>1645987 rows × 31 columns</p>\n",
       "</div>"
      ],
      "text/plain": [
       "                                       document_id  \\\n",
       "0        a3b9c8fd-e7e2-41ba-80fb-3a8596afcbc8-i0b0   \n",
       "1        8e4ae0f4-32ae-4295-b5e6-31394a991570-i0b0   \n",
       "2        a3ecb141-5ed8-4683-81a8-5935cd428501-i0b0   \n",
       "3        8e6427c0-9c08-480b-a3d9-ba0e74504a58-i0b0   \n",
       "4        a3f51e64-5581-4355-95d0-bc3dbf6f6417-i0b0   \n",
       "...                                            ...   \n",
       "1647329  15904d6a-660b-467e-8f96-f6950d940b76-i0b0   \n",
       "1647330  15928b7b-3c64-4464-b209-1b15cf6a9a70-i0b0   \n",
       "1647331  15996be6-bff8-4973-8c48-4dcc63545f0a-i0b0   \n",
       "1647332  15a305c2-5533-431b-98f2-6afd6c2b85ce-i0b0   \n",
       "1647333  15a85717-ebef-401b-a442-5b4cd51519b6-i0b0   \n",
       "\n",
       "                                               paciente_id  paciente_idade  \\\n",
       "0        c804ff943bec558ae80ffe5e6c1599d203aec37b154a70...            45.0   \n",
       "1        8fc7f163d8276fb6b5e7da9b27212fbbff1f7fb31ff62e...            21.0   \n",
       "2        9edf32bb763f6903c05a89f5fab471ba81f889469bba73...            48.0   \n",
       "3        c6a0d768ce158492f06085057d1431708d9321fc7ea361...            31.0   \n",
       "4        5243fb38cfdb567cd982d8b73d99ae77bc6b0612a1eb47...            41.0   \n",
       "...                                                    ...             ...   \n",
       "1647329  db556d3504994c3c9b13b75c56f3b72047a719bbeaa52a...            27.0   \n",
       "1647330  ce2b7c5599cd6008fa5e30f640fc91c6536435c386b6b9...            64.0   \n",
       "1647331  051200093242db3b14e2ba8bfd4a6ac2efa466283df47c...            18.0   \n",
       "1647332  b225048f46698d53783808d16aa9247b6d7f081758ccd2...            41.0   \n",
       "1647333  6932963eb4e2b4d46cb40ed2638c14555ec65504457523...            17.0   \n",
       "\n",
       "        paciente_dataNascimento paciente_enumSexoBiologico  \\\n",
       "0                    1976-02-28                          F   \n",
       "1                    2000-07-17                          F   \n",
       "2                    1972-08-04                          M   \n",
       "3                    1990-01-05                          F   \n",
       "4                    1980-03-18                          F   \n",
       "...                         ...                        ...   \n",
       "1647329              1993-10-09                          M   \n",
       "1647330              1956-11-19                          F   \n",
       "1647331              2002-08-31                          F   \n",
       "1647332              1980-04-09                          M   \n",
       "1647333              2004-08-26                          M   \n",
       "\n",
       "         paciente_racaCor_codigo paciente_racaCor_valor  \\\n",
       "0                           99.0         SEM INFORMACAO   \n",
       "1                            3.0                  PARDA   \n",
       "2                           99.0         SEM INFORMACAO   \n",
       "3                            1.0                 BRANCA   \n",
       "4                           99.0         SEM INFORMACAO   \n",
       "...                          ...                    ...   \n",
       "1647329                     99.0         SEM INFORMACAO   \n",
       "1647330                     99.0         SEM INFORMACAO   \n",
       "1647331                      3.0                  PARDA   \n",
       "1647332                      4.0                AMARELA   \n",
       "1647333                      1.0                 BRANCA   \n",
       "\n",
       "        paciente_endereco_coIbgeMunicipio  paciente_endereco_coPais  \\\n",
       "0                                350320.0                      10.0   \n",
       "1                                530010.0                      10.0   \n",
       "2                                530010.0                      10.0   \n",
       "3                                260790.0                      10.0   \n",
       "4                                290320.0                      10.0   \n",
       "...                                   ...                       ...   \n",
       "1647329                          530010.0                      10.0   \n",
       "1647330                          530010.0                      10.0   \n",
       "1647331                          530010.0                      10.0   \n",
       "1647332                          530010.0                      10.0   \n",
       "1647333                          330455.0                      10.0   \n",
       "\n",
       "        paciente_endereco_nmMunicipio  ... vacina_categoria_codigo  \\\n",
       "0                          ARARAQUARA  ...                     2.0   \n",
       "1                            BRASILIA  ...                     2.0   \n",
       "2                            BRASILIA  ...                     2.0   \n",
       "3             JABOATAO DOS GUARARAPES  ...                     2.0   \n",
       "4                           BARREIRAS  ...                     2.0   \n",
       "...                               ...  ...                     ...   \n",
       "1647329                      BRASILIA  ...                     1.0   \n",
       "1647330                      BRASILIA  ...                     2.0   \n",
       "1647331                      BRASILIA  ...                     9.0   \n",
       "1647332                      BRASILIA  ...                     2.0   \n",
       "1647333                RIO DE JANEIRO  ...                     2.0   \n",
       "\n",
       "          vacina_categoria_nome   vacina_lote  vacina_fabricante_nome  \\\n",
       "0                  Faixa Etária    218VCD256W     ASTRAZENECA/FIOCRUZ   \n",
       "1                  Faixa Etária        FE3591                  PFIZER   \n",
       "2                  Faixa Etária        FA9095                  PFIZER   \n",
       "3                  Faixa Etária        FH8023                  PFIZER   \n",
       "4                  Faixa Etária    216VCD177Z     ASTRAZENECA/FIOCRUZ   \n",
       "...                         ...           ...                     ...   \n",
       "1647329            Comorbidades    216VCD177Z     ASTRAZENECA/FIOCRUZ   \n",
       "1647330            Faixa Etária  213VCD004ZVA     ASTRAZENECA/FIOCRUZ   \n",
       "1647331  Trabalhadores de Saúde    214VCD064Z     ASTRAZENECA/FIOCRUZ   \n",
       "1647332            Faixa Etária    216VCD195Z     ASTRAZENECA/FIOCRUZ   \n",
       "1647333            Faixa Etária        FM3809                  PFIZER   \n",
       "\n",
       "        vacina_fabricante_referencia vacina_dataAplicacao  \\\n",
       "0        Organization/33781055000135           2021-10-02   \n",
       "1        Organization/00394544000851           2021-08-12   \n",
       "2        Organization/00394544000851           2021-07-08   \n",
       "3        Organization/00394544000851           2021-10-13   \n",
       "4        Organization/33781055000135           2021-07-24   \n",
       "...                              ...                  ...   \n",
       "1647329  Organization/33781055000135           2021-07-27   \n",
       "1647330  Organization/33781055000135           2021-04-16   \n",
       "1647331  Organization/33781055000135           2021-05-13   \n",
       "1647332  Organization/33781055000135           2021-07-23   \n",
       "1647333  Organization/00394544000851           2021-11-25   \n",
       "\n",
       "         vacina_descricao_dose vacina_codigo  \\\n",
       "0                      2ª Dose            85   \n",
       "1                      1ª Dose            87   \n",
       "2                      1ª Dose            87   \n",
       "3                      2ª Dose            87   \n",
       "4                      1ª Dose            85   \n",
       "...                        ...           ...   \n",
       "1647329                2ª Dose            85   \n",
       "1647330                1ª Dose            85   \n",
       "1647331                1ª Dose            85   \n",
       "1647332                1ª Dose            85   \n",
       "1647333                2ª Dose            87   \n",
       "\n",
       "                                       vacina_nome  sistema_origem  \n",
       "0        COVID-19 ASTRAZENECA/FIOCRUZ - COVISHIELD        Novo PNI  \n",
       "1                      COVID-19 PFIZER - COMIRNATY        Novo PNI  \n",
       "2                      COVID-19 PFIZER - COMIRNATY        Novo PNI  \n",
       "3                      COVID-19 PFIZER - COMIRNATY        Novo PNI  \n",
       "4        COVID-19 ASTRAZENECA/FIOCRUZ - COVISHIELD        Novo PNI  \n",
       "...                                            ...             ...  \n",
       "1647329  COVID-19 ASTRAZENECA/FIOCRUZ - COVISHIELD        Novo PNI  \n",
       "1647330  COVID-19 ASTRAZENECA/FIOCRUZ - COVISHIELD        Novo PNI  \n",
       "1647331  COVID-19 ASTRAZENECA/FIOCRUZ - COVISHIELD        Novo PNI  \n",
       "1647332  COVID-19 ASTRAZENECA/FIOCRUZ - COVISHIELD        Novo PNI  \n",
       "1647333                COVID-19 PFIZER - COMIRNATY        Novo PNI  \n",
       "\n",
       "[1645987 rows x 31 columns]"
      ]
     },
     "execution_count": 71,
     "metadata": {},
     "output_type": "execute_result"
    }
   ],
   "source": [
    "data.drop(columns='paciente_endereco_cep')"
   ]
  },
  {
   "cell_type": "code",
   "execution_count": 72,
   "id": "15d10272",
   "metadata": {},
   "outputs": [
    {
     "data": {
      "text/plain": [
       "(1645987, 32)"
      ]
     },
     "execution_count": 72,
     "metadata": {},
     "output_type": "execute_result"
    }
   ],
   "source": [
    "data.shape"
   ]
  },
  {
   "cell_type": "code",
   "execution_count": 73,
   "id": "6ac26230",
   "metadata": {},
   "outputs": [],
   "source": [
    "data.dropna(subset=['paciente_id'], inplace=True)"
   ]
  },
  {
   "cell_type": "code",
   "execution_count": 74,
   "id": "b4c9a9de",
   "metadata": {},
   "outputs": [
    {
     "data": {
      "text/plain": [
       "document_id                                      0\n",
       "paciente_id                                      0\n",
       "paciente_idade                                   0\n",
       "paciente_dataNascimento                          0\n",
       "paciente_enumSexoBiologico                       0\n",
       "paciente_racaCor_codigo                          0\n",
       "paciente_racaCor_valor                           0\n",
       "paciente_endereco_coIbgeMunicipio                0\n",
       "paciente_endereco_coPais                         0\n",
       "paciente_endereco_nmMunicipio                    0\n",
       "paciente_endereco_nmPais                         0\n",
       "paciente_endereco_uf                             0\n",
       "paciente_endereco_cep                       259392\n",
       "paciente_nacionalidade_enumNacionalidade         0\n",
       "estabelecimento_valor                            0\n",
       "estabelecimento_razaoSocial                      0\n",
       "estalecimento_noFantasia                         0\n",
       "estabelecimento_municipio_codigo                 0\n",
       "estabelecimento_municipio_nome                   0\n",
       "estabelecimento_uf                               0\n",
       "vacina_grupoAtendimento_codigo                   0\n",
       "vacina_grupoAtendimento_nome                     0\n",
       "vacina_categoria_codigo                          0\n",
       "vacina_categoria_nome                            0\n",
       "vacina_lote                                      0\n",
       "vacina_fabricante_nome                           0\n",
       "vacina_fabricante_referencia                     0\n",
       "vacina_dataAplicacao                             0\n",
       "vacina_descricao_dose                            0\n",
       "vacina_codigo                                    0\n",
       "vacina_nome                                      0\n",
       "sistema_origem                                   0\n",
       "dtype: int64"
      ]
     },
     "execution_count": 74,
     "metadata": {},
     "output_type": "execute_result"
    }
   ],
   "source": [
    "data.isnull().sum()"
   ]
  },
  {
   "cell_type": "code",
   "execution_count": 75,
   "id": "47369bb0",
   "metadata": {},
   "outputs": [
    {
     "data": {
      "text/plain": [
       "(1645986, 32)"
      ]
     },
     "execution_count": 75,
     "metadata": {},
     "output_type": "execute_result"
    }
   ],
   "source": [
    "data.shape"
   ]
  },
  {
   "cell_type": "code",
   "execution_count": 78,
   "id": "c79c0616",
   "metadata": {},
   "outputs": [],
   "source": [
    "data.to_csv('sus1trat.csv')"
   ]
  },
  {
   "cell_type": "code",
   "execution_count": null,
   "id": "4238c6cc",
   "metadata": {},
   "outputs": [],
   "source": []
  }
 ],
 "metadata": {
  "kernelspec": {
   "display_name": "Python 3 (ipykernel)",
   "language": "python",
   "name": "python3"
  },
  "language_info": {
   "codemirror_mode": {
    "name": "ipython",
    "version": 3
   },
   "file_extension": ".py",
   "mimetype": "text/x-python",
   "name": "python",
   "nbconvert_exporter": "python",
   "pygments_lexer": "ipython3",
   "version": "3.9.7"
  }
 },
 "nbformat": 4,
 "nbformat_minor": 5
}
